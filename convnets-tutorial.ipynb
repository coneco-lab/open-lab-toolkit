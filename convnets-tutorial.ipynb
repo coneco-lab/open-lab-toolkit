{
 "cells": [
  {
   "cell_type": "markdown",
   "metadata": {},
   "source": [
    "# **Introduction to Convolutional Neural Networks**\n",
    "\n",
    "### [Matteo De Matola](https://github.com/matteo-d-m) "
   ]
  },
  {
   "cell_type": "markdown",
   "metadata": {},
   "source": [
    "Convolutional neural networks (CNNs) are a class of artificial neural networks that are widely used across several domains.\n",
    "\n",
    "In the last ten years, they have been increasingly used in neuroscience as:\n",
    "- Models of the ventral visual stream \n",
    "- EEG classifiers\n",
    "- MRI classifiers \n",
    "- EEG forecasters\n",
    "- & more\n",
    "\n",
    "At [CoN&Co](https://www.cimec.unitn.it/en/CoNeCo), we are using CNNs as EEG classifiers (and we might  use them as EEG forecasters).\n",
    "\n",
    "Due to their increasing popularity in neuroscientific research, it is increasingly important to understand what CNNs are and how to implement them. \n",
    "\n",
    "This notebook cannot provide a throrough treatment of CNNs' theory and applications, nor can it be mathematically rigorous. But it will:\n",
    "- Provide all the basic definitions \n",
    "- Introduce all the essential Python tools\n",
    "- Build a working CNN for object recognition, step-by-step\n",
    "- Provide pointers to external resources (e.g., papers, books, and online courses) to deepen your understanding of CNN theory\n",
    "\n",
    "Some of the material in this notebook was taught by me (Matteo De Matola) in Lecture 3.3 of Luigi Petrucco's course, [Python for (open) Neuroscience](https://github.com/vigji/python-cimec-2024) (2024 iteration)."
   ]
  },
  {
   "cell_type": "markdown",
   "metadata": {},
   "source": [
    "# **Table of Contents** <a class=\"anchor\" id=\"back-to-top\"></a>\n",
    "\n",
    "[Part 1: The Concepts](#part-1-the-concepts)\n",
    "- [Core Concept 1: Artificial Neural Networks](#first-concept)\n",
    "\n",
    "    - [1.1. The Artificial Neuron](#11-the-artificial-neuron)\n",
    "    \n",
    "        - [1.1.1. The Activation Function](#111-the-activation-function)\n",
    "    - [1.2. From Neuron to Network](#12-from-neuron-to-network)\n",
    "    - [1.3. From Network to Deep Network](#13-from-network-to-deep-network)\n",
    "- [Core Concept 2: From (Deep) Network to (Deep) Convolutional Network](#second-concept)\n",
    "    - [2.1. The Problem of Bidimensional Inputs](#21-the-problem-of-bidimensional-inputs)\n",
    "    - [2.2. Convolution Captures Local Structures](#22-convolution-captures-local-structures)\n",
    "- [Core Concept 3: Error-Driven Learning](#core-concept-3-error-driven-learning)\n",
    "    \n",
    "    - [3.0. Weights Shape Everything](#30-weights-shape-everything)\n",
    "    - [3.1. What is Error-Driven Learning?](#31-what-is-error-driven-learning)\n",
    "    - [3.2. The Rules of Error-Driven Learning](#32-the-rules-of-error-driven-learning)\n",
    "    - [3.3. The Prerequisites for Error-Driven Learning](#33-the-prerequisites-for-error-driven-learning)\n",
    "    - [3.4. Error Backpropagation](#34-error-backpropagation)\n",
    "    - [3.5. Training, Validation, and Testing](#35-training-validation-and-testing)\n",
    "\n",
    "[Part 2: The Implementation](#part-2-the-implementation)\n",
    "- [Enter: PyTorch](#enter-pytorch)\n",
    "- [Tensors, Datasets, and DataLoaders](#tensors-datasets--dataloaders)\n",
    "- [Building a CNN](#building-a-cnn)\n",
    "- [Model Selection, a.k.a. Hyperparameter Tuning](#model-selection-aka-hyperparameter-tuning)\n",
    "- [The Training-Validation Loop](#the-training-validation-loop)\n",
    "- [Finally: The Test](#finally-the-test)\n",
    "- [Inspecting a Trained Model: Basic Techniques](#inspecting-a-trained-model-basic-techniques)"
   ]
  },
  {
   "cell_type": "markdown",
   "metadata": {},
   "source": [
    "# **Part 1: The Concepts** <a class=\"anchor\" id=\"part-1-the-concepts\"></a>"
   ]
  },
  {
   "cell_type": "markdown",
   "metadata": {},
   "source": [
    "There are at least three ways to treat convolutional neural networks: \n",
    "- The mathematical way, which treats CNNs as a combination of linear and nonlinear functions\n",
    "- The computational way, which treats CNNs as mere computer programs that take in inputs and return outputs \n",
    "- The neuroscientific way, which treats CNNs as a model of perceptual pathways in the mammal brain\n",
    "\n",
    "All three ways are valid, and the choice between them depends entirely on the target audience.\n",
    "\n",
    "The target audience of this notebook are neuroscientists, so I will emphasize the neuroscientific way. But I will borrow some tools and concepts from the mathematical and computational ways when needed. "
   ]
  },
  {
   "cell_type": "markdown",
   "metadata": {},
   "source": [
    "## **Core Concept 1: Artificial Neural Networks** <a class=\"anchor\" id=\"first-concept\"></a> "
   ]
  },
  {
   "cell_type": "markdown",
   "metadata": {},
   "source": [
    "As mentioned above, CNNs are a class of artificial neural networks (ANNs). \n",
    "\n",
    "ANNs are mathematical models of networks of interacting biological neurons. While their biological plausibility is debatable, ANNs have proven able to simulate some aspects of animal cognition, such as learning, vision, language, and executive control. "
   ]
  },
  {
   "cell_type": "markdown",
   "metadata": {},
   "source": [
    "### **1.1. The Artificial Neuron** <a class=\"anchor\" id=\"11-the-artificial-neuron\"></a>"
   ]
  },
  {
   "cell_type": "markdown",
   "metadata": {},
   "source": [
    "The artificial neuron is the cornerstone of artificial neural networks. \n",
    "\n",
    "It is a mathematical model (basically, one equation) that represents a neuron as a weighted sum:"
   ]
  },
  {
   "cell_type": "markdown",
   "metadata": {},
   "source": [
    "Given: \n",
    "- $ \\vec{x} = [x_{1},x_{2},x_{3},...,x_{n}]  $ \n",
    "- $ \\vec{w} = [w_{1},w_{2},w_{3},...,w_{n}]  $ \n",
    "\n",
    "Calculate: \n",
    "\n",
    "$ \\displaystyle a = \\sum_{i = 1}^{n} w_{i}x_{i} = w_{1}x_{1} + w_{2}x_{2} + w_{3}x_{3} + ... + w_{n}x_{n} $\n",
    "\n",
    "where\n",
    "\n",
    "- $ \\vec{x} $ = a vector that stores $ n $ input values\n",
    "- $ \\vec{w} $ = a vector that stores $ n $ corresponding weights\n",
    "- $ a = $ the neuron's activation"
   ]
  },
  {
   "cell_type": "markdown",
   "metadata": {},
   "source": [
    "This is meant \n",
    "to model three biological facts:\n",
    "1. Real neurons receive **inputs** from multiple synapses\n",
    "2. Different synapses have different **strengths**, therefore, the corresponding inputs have different _weights_ (i.e., importance, salience, relevance...)\n",
    "3. Postsynaptic potentials (and _action_ potentials) are a **sum** of the local potentials generated by synaptic activity"
   ]
  },
  {
   "cell_type": "markdown",
   "metadata": {},
   "source": [
    "An artificial neuron may have a _bias_ term ($b$) to represent its baseline activity: \n",
    "\n",
    "$$ a = b + \\sum_{i = 1}^{n} w_{i}x_{i} = b + w_{1}x_{1} + w_{2}x_{2} + w_{3}x_{3} + ... + w_{n}x_{n} $$"
   ]
  },
  {
   "cell_type": "markdown",
   "metadata": {},
   "source": [
    "The code below implements an artificial neuron that receives a three-dimensional (random) input. \n",
    "\n",
    "In linear algebra jargon, the weighted sum of inputs is the _dot product_ between vector $\\vec{w}$ and vector $\\vec{x}$. This is why the corresponding NumPy function is called `dot()`."
   ]
  },
  {
   "cell_type": "code",
   "execution_count": 28,
   "metadata": {},
   "outputs": [
    {
     "name": "stdout",
     "output_type": "stream",
     "text": [
      "This neuron's activation is: [[-0.79911487]]\n"
     ]
    }
   ],
   "source": [
    "import numpy as np \n",
    "np.random.seed(0)\n",
    "\n",
    "def artificial_neuron(inputs, weights, bias=0):\n",
    "    activation = bias + np.dot(inputs, weights) \n",
    "    return activation\n",
    "\n",
    "NUMBER_OF_INPUTS = 3\n",
    "inputs_vector = np.random.rand(1,NUMBER_OF_INPUTS)\n",
    "weights_vector = np.random.randn(NUMBER_OF_INPUTS,1)\n",
    "\n",
    "neuronal_activation = artificial_neuron(weights=weights_vector,\n",
    "                                        inputs=inputs_vector,\n",
    "                                        bias=0)\n",
    "\n",
    "print(f\"This neuron's activation is: {neuronal_activation}\")"
   ]
  },
  {
   "cell_type": "markdown",
   "metadata": {},
   "source": [
    "#### **1.1.1. The Activation Function** <a class=\"anchor\" id=\"111-the-activation-function\"></a>"
   ]
  },
  {
   "cell_type": "markdown",
   "metadata": {},
   "source": [
    "The computation of the neuron's activation value is usually followed by a nonlinear function that we call the _activation function_ ( $f$ ):\n",
    "\n",
    "$$ o = f(a) $$\n",
    "\n",
    "where\n",
    "\n",
    "- $o$ = the neuron's output\n",
    "- $a$ = the neuron's activation (weighted sum of its inputs)\n",
    "- $f$ = some nonlinear function\n",
    "\n",
    "The role of the activation function is to account (or at least, try to account) for the nonlinear nature of true neuronal activity."
   ]
  },
  {
   "cell_type": "markdown",
   "metadata": {},
   "source": [
    "The ANNs literature contains a wealth of activation functions. One classic example is the sigmoid function:\n",
    "\n",
    "$$ \\sigma = \\frac{1}{(1+e^{-x})} $$\n",
    "\n",
    "While it might look complex, the sigmoid does little more than compressing the input between 0 and 1:"
   ]
  },
  {
   "cell_type": "code",
   "execution_count": 29,
   "metadata": {},
   "outputs": [
    {
     "data": {
      "text/plain": [
       "Text(0.5, 1.0, 'Sigmoid function')"
      ]
     },
     "execution_count": 29,
     "metadata": {},
     "output_type": "execute_result"
    },
    {
     "data": {
      "image/png": "[encoded data removed]",
      "text/plain": [
       "<Figure size 640x480 with 1 Axes>"
      ]
     },
     "metadata": {},
     "output_type": "display_data"
    }
   ],
   "source": [
    "import matplotlib.pyplot as plt\n",
    "\n",
    "def sigmoid(x):\n",
    "    sigmoid = 1 / (1 + np.exp(-x))\n",
    "    return sigmoid\n",
    "\n",
    "input_values = np.array([n for n in range(-100,100)])\n",
    "sigmoid_values = sigmoid(x=input_values)\n",
    "plt.plot(input_values, sigmoid_values)\n",
    "plt.title(\"Sigmoid function\")"
   ]
  },
  {
   "cell_type": "markdown",
   "metadata": {},
   "source": [
    "The sigmoid has been important in the past, but is not much used nowadays.\n",
    "\n",
    "A more modern activation function is the rectified linear unit (ReLU), which sets all negative values to zero and leaves all non-negative values as they were:\n",
    "\n",
    "$$\n",
    "ReLU(x) = \\begin{cases}\n",
    "                            x \\text{  if  } x \\geq 0 \\\\ \n",
    "                            0 \\text{  otherwise}\n",
    "                    \\end{cases}\n",
    "$$"
   ]
  },
  {
   "cell_type": "code",
   "execution_count": 30,
   "metadata": {},
   "outputs": [
    {
     "data": {
      "text/plain": [
       "Text(0.5, 1.0, 'Rectified Linear Unit (ReLU)')"
      ]
     },
     "execution_count": 30,
     "metadata": {},
     "output_type": "execute_result"
    },
    {
     "data": {
      "image/png": "[encoded data removed]",
      "text/plain": [
       "<Figure size 640x480 with 1 Axes>"
      ]
     },
     "metadata": {},
     "output_type": "display_data"
    }
   ],
   "source": [
    "def relu(x):\n",
    "    smaller_than_zero = (x <= 0)\n",
    "    relu_values = x.copy()              # because the next line works inplace\n",
    "    relu_values[smaller_than_zero] = 0    \n",
    "    return relu_values\n",
    "\n",
    "input_values = np.array([n for n in range(-100,100)])\n",
    "relu_values = relu(x=input_values)\n",
    "plt.plot(input_values, relu_values)\n",
    "plt.title(\"Rectified Linear Unit (ReLU)\")"
   ]
  },
  {
   "cell_type": "markdown",
   "metadata": {},
   "source": [
    "If you think about it, ReLU actually picks the maximum among 0 and $ x $. Therefore, it is more compactly written as:\n",
    "\n",
    "$$ ReLU(x) = max(0,x) $$"
   ]
  },
  {
   "cell_type": "code",
   "execution_count": 6,
   "metadata": {},
   "outputs": [
    {
     "data": {
      "text/plain": [
       "Text(0.5, 1.0, 'Rectified Linear Unit (ReLU) - More compact, same result')"
      ]
     },
     "execution_count": 6,
     "metadata": {},
     "output_type": "execute_result"
    },
    {
     "data": {
      "image/png": "[encoded data removed]",
      "text/plain": [
       "<Figure size 640x480 with 1 Axes>"
      ]
     },
     "metadata": {},
     "output_type": "display_data"
    }
   ],
   "source": [
    "def relu(x):\n",
    "    return np.maximum(0,x)\n",
    "\n",
    "input_values = np.array([n for n in range(-100,100)])\n",
    "relu_values = relu(x=input_values)\n",
    "plt.plot(input_values, relu_values)\n",
    "plt.title(\"Rectified Linear Unit (ReLU) - More compact, same result\")"
   ]
  },
  {
   "cell_type": "markdown",
   "metadata": {},
   "source": [
    "Here's the effect of sigmoid and ReLU functions on a neuron's activation:"
   ]
  },
  {
   "cell_type": "code",
   "execution_count": 7,
   "metadata": {},
   "outputs": [
    {
     "name": "stdout",
     "output_type": "stream",
     "text": [
      "Neuron's activation value (before any nonlinearity): [[1.43409165]] | After sigmoid: [[0.80753804]]\n",
      "Neuron's activation value (before any nonlinearity): [[1.43409165]] | After ReLU: [[1.43409165]]\n"
     ]
    }
   ],
   "source": [
    "with_sigmoid_activation = sigmoid(neuronal_activation)\n",
    "with_relu_activation = relu(neuronal_activation)\n",
    "\n",
    "print(f\"Neuron's activation value (before any nonlinearity): {neuronal_activation} | After sigmoid: {with_sigmoid_activation}\") \n",
    "print(f\"Neuron's activation value (before any nonlinearity): {neuronal_activation} | After ReLU: {with_relu_activation}\") "
   ]
  },
  {
   "cell_type": "markdown",
   "metadata": {},
   "source": [
    "**Interim Summary: The Artificial Neuron in a Nutshell**\n",
    "\n",
    "- The artificial neuron is a mathematical model of the biological neuron\n",
    "- Akin to the biological neuron, it receives multiple inputs. Different inputs have different weights (a.k.a. importance, salience, relevance...)\n",
    "- The artificial neuron is a weighted sum of inputs. It literally **IS** that: just basic maths!\n",
    "- To account for the nonlinear behaviour of biological neurons, we feed the activations of artificial neurons into nonlinear functions\n",
    "\n",
    "<p align=\"center\">\n",
    "  <img src=\"./files/artificial-neuron.png\" />\n",
    "</p>"
   ]
  },
  {
   "cell_type": "markdown",
   "metadata": {},
   "source": [
    "### **1.2. From Neuron to Network** <a class=\"anchor\" id=\"12-from-neuron-to-network\"></a>"
   ]
  },
  {
   "cell_type": "markdown",
   "metadata": {},
   "source": [
    "So... To model a single neuron, we multiply two vectors ($\\vec{w}$ and $\\vec{x}$):\n",
    "- One vector contains input data ($\\vec{x}$)\n",
    "- One vector contains the corresponding weights ($\\vec{w}$)\n",
    "\n",
    "To model a larger set of neurons (i.e., a network), we must multiply the vector of inputs ($\\vec{x}$) for a whole _matrix_ of weights ($W$). This matrix will have:\n",
    "\n",
    "- One row for each neuron in the network\n",
    "- One column for each input\n",
    "\n",
    "This really won't change anything but the number of neurons involved."
   ]
  },
  {
   "cell_type": "markdown",
   "metadata": {},
   "source": [
    "Given:\n",
    "\n",
    "- $ \\vec{x} = [x_{1},x_{2},x_{3},...,x_{n}]  $\n",
    "\n",
    "- $ W = \\displaystyle \\begin{bmatrix}\n",
    "                      w_{11} & w_{12} & w_{13} & ... &  w_{1n} \\\\\n",
    "                      w_{21} & w_{22} & w_{23} & ... &  w_{2n} \\\\\n",
    "                      w_{31} & w_{32} & w_{33} & ... &  w_{3n} \\\\\n",
    "                      \\vdots & \\vdots & \\vdots & \\ddots & \\vdots \\\\\n",
    "                      w_{m1} & w_{m2} & w_{m3} & ... & w_{mn} \n",
    "                      \\end{bmatrix}    $  \n",
    "\n",
    "Calculate: \n",
    "\n",
    "$ \\vec{a} = [a_{1},a_{2},a_{3},...,a_{m}]  $\n",
    "\n",
    "where\n",
    "\n",
    "- $ \\vec{x} = $ a vector that stores $ n $ input intensity values\n",
    "- $ W = $ a matrix that stores $ n $ corresponding weights for each of $ m $ neurons\n",
    "- $ \\vec{a} = $ a vector that stores $ m $ activation values (one for each neuron)\n",
    "\n",
    "Each element of $ \\vec{a} $ is the dot product (weighted sum) between $ \\vec{x} $ and one row of the weights matrix: \n",
    "\n",
    "\n",
    "$ \\displaystyle a_{i} = \\sum_{j = 1}^{n} w_{ij}x_{i} = w_{i1}x_{1} + w_{i2}x_{2} + w_{i3}x_{3} + ... + w_{in}x_{n} $ \n",
    "\n",
    "where \n",
    "\n",
    "- $ a_i = $ the activation value of the $ i^{th} $ neuron"
   ]
  },
  {
   "cell_type": "markdown",
   "metadata": {},
   "source": [
    "Here's what all looks like in video:\n",
    "\n",
    "<video width=\"1000\" height=\"auto\" controls>\n",
    "  <source src=\"./files/mat-vec-mul.mp4\" type=\"video/mp4\">\n",
    "</video>"
   ]
  },
  {
   "cell_type": "markdown",
   "metadata": {},
   "source": [
    "And here's what it all looks like in code:"
   ]
  },
  {
   "cell_type": "code",
   "execution_count": 10,
   "metadata": {},
   "outputs": [
    {
     "name": "stdout",
     "output_type": "stream",
     "text": [
      "Network activation (before any nonlinearity): [[2.61805374 0.8185998  1.64595012]] | After sigmoid: [[0.93201449 0.69393904 0.83834295]]\n",
      "Network activation (before any nonlinearity): [[2.61805374 0.8185998  1.64595012]] | After ReLU: [[2.61805374 0.8185998  1.64595012]]\n"
     ]
    }
   ],
   "source": [
    "def artificial_neural_network(inputs, weights, bias=0):\n",
    "    network_activation = bias + np.dot(inputs, weights) \n",
    "    return network_activation\n",
    "\n",
    "NUMBER_OF_INPUTS = 3\n",
    "NUMBER_OF_NEURONS = 3\n",
    "some_random_inputs = np.random.rand(1,NUMBER_OF_INPUTS)\n",
    "some_corresponding_weights = np.random.randn(NUMBER_OF_NEURONS,NUMBER_OF_INPUTS)\n",
    "\n",
    "network_activation = artificial_neural_network(inputs=some_random_inputs,\n",
    "                                               weights=some_corresponding_weights,\n",
    "                                               bias=0)\n",
    "with_sigmoid = sigmoid(network_activation)\n",
    "with_relu = relu(network_activation)\n",
    "\n",
    "print(f\"Network activation (before any nonlinearity): {network_activation} | After sigmoid: {with_sigmoid}\")\n",
    "print(f\"Network activation (before any nonlinearity): {network_activation} | After ReLU: {with_relu}\")"
   ]
  },
  {
   "cell_type": "markdown",
   "metadata": {},
   "source": [
    "**Interim summary: From Neuron to Network in a Nutshell**\n",
    "\n",
    "- An ANN is a mathematical model of a _network_ of neurons\n",
    "- An ANN is composed of _multiple_ artificial neurons (so-called _nodes_) \n",
    "    - Each neuron is a weighted sum of inputs followed by a nonlinear function"
   ]
  },
  {
   "cell_type": "markdown",
   "metadata": {},
   "source": [
    "### **1.3. From Network to Deep Network** <a class=\"anchor\" id=\"13-from-network-to-deep-network\"></a>"
   ]
  },
  {
   "cell_type": "markdown",
   "metadata": {},
   "source": [
    "The multiplication between a vector of inputs and a matrix of coefficients yields the activity of a set of neurons. This set of neurons is called a _network layer_.\n",
    "- Analogy: a brain area\n",
    "\n",
    "But, what if we have _multiple_ sets of neurons that communicate with each other?\n",
    "- One brain area that sends signals to another area, that sends them to another one, that sends them to another one...\n",
    "\n",
    "To simulate this situation, we just concatenate multiple layers\n",
    "- The output of a set of neurons becomes the input to another one\n",
    "- Eventually, the output from the whole network will be shaped by each layer's output"
   ]
  },
  {
   "cell_type": "markdown",
   "metadata": {},
   "source": [
    "Here's what it looks like in code:"
   ]
  },
  {
   "cell_type": "code",
   "execution_count": 15,
   "metadata": {},
   "outputs": [
    {
     "name": "stdout",
     "output_type": "stream",
     "text": [
      "Layer 1's activation - With sigmoid: [[0.45533767 0.47676576 0.62671081]] | With ReLU: [[0.         0.         0.51813179]]\n",
      " \n",
      "Layer 2's activation - With sigmoid: [[0.49170153 0.14294215 0.13289908]] | With ReLU: [[0.         0.         0.51813179]]\n",
      " \n",
      "Layer 2's activation - With sigmoid: [[0.55233182 0.32103982 0.24910428]] | With ReLU: [[0.82405154 2.83163878 3.56981715]]\n",
      " \n"
     ]
    }
   ],
   "source": [
    "def network_layer(inputs, weights, bias, activation_function):\n",
    "    layer_activation = bias + np.dot(inputs, weights) \n",
    "    return activation_function(layer_activation)\n",
    "\n",
    "NUMBER_OF_INPUTS = 3\n",
    "NUMBER_OF_NEURONS = 3\n",
    "\n",
    "input_vector = np.random.rand(1,NUMBER_OF_INPUTS)\n",
    "first_layer_weights = np.random.randn(NUMBER_OF_NEURONS,NUMBER_OF_INPUTS)\n",
    "second_layer_weights = np.random.randn(NUMBER_OF_NEURONS,NUMBER_OF_INPUTS)\n",
    "third_layer_weights = np.random.randn(NUMBER_OF_NEURONS,NUMBER_OF_INPUTS)\n",
    "\n",
    "first_layer_activation_sigmoid = network_layer(inputs=input_vector,\n",
    "                                               weights=first_layer_weights,\n",
    "                                               bias=0,\n",
    "                                               activation_function=sigmoid)\n",
    "first_layer_activation_relu = network_layer(inputs=input_vector,\n",
    "                                            weights=first_layer_weights,\n",
    "                                            bias=0,\n",
    "                                            activation_function=relu)\n",
    "print(f\"Layer 1's activation - With sigmoid: {first_layer_activation_sigmoid} | With ReLU: {first_layer_activation_relu}\")\n",
    "print(\" \")\n",
    "\n",
    "second_layer_activation_sigmoid = network_layer(inputs=first_layer_activation_sigmoid,\n",
    "                                                weights=second_layer_weights,\n",
    "                                                bias=0,\n",
    "                                                activation_function=sigmoid)\n",
    "second_layer_activation_relu = network_layer(inputs=first_layer_activation_relu,\n",
    "                                             weights=first_layer_weights,\n",
    "                                             bias=0,\n",
    "                                             activation_function=relu)\n",
    "print(f\"Layer 2's activation - With sigmoid: {second_layer_activation_sigmoid} | With ReLU: {first_layer_activation_relu}\")\n",
    "print(\" \")\n",
    "\n",
    "third_layer_activation_sigmoid = network_layer(inputs=second_layer_activation_sigmoid,\n",
    "                                               weights=second_layer_weights,\n",
    "                                               bias=0,\n",
    "                                               activation_function=sigmoid)\n",
    "third_layer_activation_relu = network_layer(inputs=second_layer_activation_relu,\n",
    "                                            weights=first_layer_weights,\n",
    "                                            bias=0,\n",
    "                                            activation_function=relu)\n",
    "print(f\"Layer 2's activation - With sigmoid: {third_layer_activation_sigmoid} | With ReLU: {third_layer_activation_relu}\")\n",
    "print(\" \")"
   ]
  },
  {
   "cell_type": "markdown",
   "metadata": {},
   "source": [
    "**Interim summary: From Network to Deep Network in a Nutshell**\n",
    "\n",
    "- A deep network is a chain of layers\n",
    "    - Each layer's output is the input to the next\n",
    "    - The output from each layer contributes to the output from the whole network\n",
    "\n",
    "- Each layer is itself a chain of two operations:\n",
    "    - Multiplication between $W$ and $\\vec{x}$  \n",
    "    - A nonlinear activation function ( $f$ )\n",
    "\n",
    "[Back to top](#back-to-top)"
   ]
  },
  {
   "cell_type": "markdown",
   "metadata": {},
   "source": [
    "## **Core Concept 2: From (Deep) Network to (Deep) Convolutional Network** <a class=\"anchor\" id=\"second-concept\"></a>"
   ]
  },
  {
   "cell_type": "markdown",
   "metadata": {},
   "source": [
    "### **2.1. The Problem of Bidimensional Inputs** <a class=\"anchor\" id=\"21-the-problem-of-bidimensional-inputs\"></a>"
   ]
  },
  {
   "cell_type": "markdown",
   "metadata": {},
   "source": [
    "As described above, a standard neural network layer consists of:\n",
    "\n",
    "- Multiplication between $W$ (a weights matrix) and $\\vec{x}$ (a vector of data) \n",
    "- A nonlinear activation function ( $f$ )\n",
    "\n",
    "The output of such layer is $\\vec{a}$, a vector of neuronal activation values (one value for each neuron in the layer). "
   ]
  },
  {
   "cell_type": "markdown",
   "metadata": {},
   "source": [
    "Such standard network layers work well for vector inputs, i.e., things like:\n",
    "\n",
    "$$ \\vec{x} = [x_{1},x_{2},x_{3},...,x_{n}]  $$\n",
    "\n",
    "In practice, such inputs might be EEG data from a given electrode, in a given time window (one number per time point): \n",
    "\n",
    "$$ EEG \\ (\\mu V) = [0.1, 0.16, -0.1, ..., 0.24] $$\n",
    "\n",
    "or the mean rent in [Rovereto](https://en.wikipedia.org/wiki/Rovereto) districts at any given time (one number per district):\n",
    "\n",
    "$$ Rent \\ (€) = [450, 465, 480, ..., 510] $$\n",
    "\n",
    "or anything else that can be described by a one-dimensional array. "
   ]
  },
  {
   "cell_type": "markdown",
   "metadata": {},
   "source": [
    "But, what do we do with grid-like, two-dimensional inputs?\n",
    "\n",
    "For example, what do we do with EEG data from several electrodes?\n",
    "\n",
    " $$ EEG \\ (\\mu V) = \\begin{bmatrix}\n",
    "                    0.12 & 0.16 & -0.10  & ... &  0.24 \\\\\n",
    "                    0.17 & 0.23 & -0.21 & ... &  0.33 \\\\\n",
    "                    1.33 & 0.97 & -0.34 & ... &  0.26 \\\\\n",
    "                    \\vdots & \\vdots & \\vdots & \\ddots & \\vdots \\\\\n",
    "                    1.01   & 1.41 & 1.27 & ... & -2.35 \n",
    "                    \\end{bmatrix}    $$  \n",
    "\n",
    "And, what do we do with an image (which is just a grid of colour - or luminance - values)?\n",
    "\n",
    "<p align=\"center\">\n",
    "  <img src=\"./files/birdie.jpg\" />\n",
    "</p>"
   ]
  },
  {
   "cell_type": "markdown",
   "metadata": {},
   "source": [
    "In principle, grid-like inputs could be multiplied by a weights matrix like their vector counterparts. \n",
    "\n",
    "Given:\n",
    "\n",
    " - $ X = \\displaystyle \\begin{bmatrix}\n",
    "                      x_{11} & x_{12} & x_{13} & ... &  x_{1m} \\\\\n",
    "                      x_{21} & x_{22} & x_{23} & ... &  x_{2m} \\\\\n",
    "                      x_{31} & x_{32} & x_{33} & ... &  x_{3m} \\\\\n",
    "                      \\vdots & \\vdots & \\vdots & \\ddots & \\vdots \\\\\n",
    "                      x_{n1} & x_{n2} & x_{n3} & ... & x_{nm} \n",
    "                      \\end{bmatrix}    $ \n",
    "\n",
    "- $ W = \\displaystyle \\begin{bmatrix}\n",
    "                      w_{11} & w_{12} & w_{13} & ... &  w_{1n} \\\\\n",
    "                      w_{21} & w_{22} & w_{23} & ... &  w_{2n} \\\\\n",
    "                      w_{31} & w_{32} & w_{33} & ... &  w_{3n} \\\\\n",
    "                      \\vdots & \\vdots & \\vdots & \\ddots & \\vdots \\\\\n",
    "                      w_{m1} & w_{m2} & w_{m3} & ... & w_{mn} \n",
    "                      \\end{bmatrix}    $ \n",
    "\n",
    "We would calculate: \n",
    "\n",
    "- $ A = \\displaystyle \\begin{bmatrix}\n",
    "                      a_{11} & a_{12} & a_{13} & ... &  a_{1m} \\\\\n",
    "                      a_{21} & a_{22} & a_{23} & ... &  a_{2m} \\\\\n",
    "                      a_{31} & a_{32} & a_{33} & ... &  a_{3m} \\\\\n",
    "                      \\vdots & \\vdots & \\vdots & \\ddots & \\vdots \\\\\n",
    "                      a_{m1} & a_{m2} & a_{m3} & ... & a_{mm} \n",
    "                      \\end{bmatrix}    $  \n",
    "\n",
    "where\n",
    "\n",
    "- $ X = $ a matrix that stores $ n \\cdot m $ intensity values of a bidimensional input\n",
    "- $ W = $ a matrix that stores $ n $ corresponding weights for each of $ m $ neurons\n",
    "- $ A = $ a matrix that stores $ m $ activation values for $ m $ neurons\n",
    "\n",
    "Each element of $ A $ would be the dot product (weighted sum) between one row of $ W $ and one column of $ X $: \n",
    "\n",
    "\n",
    "$ \\displaystyle a_{ij} = \\sum_{j = 1}^{n} w_{ij}x_{ji} = w_{i1}x_{1j} + w_{i2}x_{2j} + w_{i3}x_{3j} + ... + w_{in}x_{nj} $ \n",
    "\n",
    "where \n",
    "\n",
    "- $ a_{ij} = $ is the response of the $ i^{th} $ neuron to the $ j^{th} $ column of the input matrix \n"
   ]
  },
  {
   "cell_type": "markdown",
   "metadata": {},
   "source": [
    "While feasible, this strategy is:\n",
    "\n",
    "- Quite complex \n",
    "  - It has no straightforward interpretation   \n",
    "  - If you tried it out with paper and pencil, you might have a hard time wrapping your mind around it\n",
    "- Very inefficient\n",
    "    - It neglects the compositional structure of inputs\n",
    "      - Wait - what is this?"
   ]
  },
  {
   "cell_type": "markdown",
   "metadata": {},
   "source": [
    "### **2.2. Convolution Captures Local Structures** <a class=\"anchor\" id=\"22-convolution-captures-local-structures\"></a>"
   ]
  },
  {
   "cell_type": "markdown",
   "metadata": {},
   "source": [
    "Often, grid-like inputs are a composition of local structures, or _**features**_:\n",
    "\n",
    "- An image is composed of edges, circles, and other geometric primitives\n",
    "- An EEG is composed of different patterns of activity from different electrodes\n",
    "- etc.\n",
    "\n",
    "To capture this local structure, we can:\n",
    "\n",
    "- Take a small weights matrix (smaller than the input) \n",
    "- Overlay this small weights matrix to an equally small patch of the input\n",
    "- Multiply the small weights matrix and the small patch of input element-wise\n",
    "- Sum all the element-wise products\n",
    "- Repeat on a different patch until the whole input is covered\n",
    "\n",
    "This operation is known as _**convolution**_ and is equivalent to taking the dot product between a patch of input and a set of weights."
   ]
  },
  {
   "cell_type": "markdown",
   "metadata": {},
   "source": [
    "Note that:\n",
    "\n",
    "- Convolution returns weighted sums of inputs that are specific to a given input region, that is, that represent a specific _feature_\n",
    "- We can interpret the result of convolution in terms of sensory neurons and their receptive fields\n",
    "\n",
    "This is better explained in video:\n",
    "\n",
    "<video width=\"1000\" height=\"auto\" controls>\n",
    "  <source src=\"./files/discrete-conv.mp4\" type=\"video/mp4\">\n",
    "</video>"
   ]
  },
  {
   "cell_type": "markdown",
   "metadata": {},
   "source": [
    "Understanding convolution requires to know three terms and understand their meaning:\n",
    "\n",
    "1. **Kernel:** the weights matrix. It's also called _filter_\n",
    "    - These terms are inherited from the fields of image and signal processing, where convolution is very popular\n",
    "\n",
    "2. **Padding:** a frame of zeros around the image. If the size of your kernel is such that the kernel might end up outside the input, you must pad the input with zeros - otherwise, Python will throw an error. This has no impact on the result, as the element-wise products of kernel values and padding values will be 0 \n",
    "\n",
    "3. **Stride:** the size of each kernel's step"
   ]
  },
  {
   "cell_type": "markdown",
   "metadata": {},
   "source": [
    "Now that we know the jargon, we can implement a convolution in pure NumPy:"
   ]
  },
  {
   "cell_type": "code",
   "execution_count": 26,
   "metadata": {},
   "outputs": [
    {
     "name": "stdout",
     "output_type": "stream",
     "text": [
      "Feature map after 1 convolution steps:\n",
      "[[-0.07108221  0.          0.          0.          0.        ]\n",
      " [ 0.          0.          0.          0.          0.        ]\n",
      " [ 0.          0.          0.          0.          0.        ]\n",
      " [ 0.          0.          0.          0.          0.        ]\n",
      " [ 0.          0.          0.          0.          0.        ]]\n",
      " \n",
      "Feature map after 2 convolution steps:\n",
      "[[-0.07108221  0.86991363  0.          0.          0.        ]\n",
      " [ 0.          0.          0.          0.          0.        ]\n",
      " [ 0.          0.          0.          0.          0.        ]\n",
      " [ 0.          0.          0.          0.          0.        ]\n",
      " [ 0.          0.          0.          0.          0.        ]]\n",
      " \n",
      "Feature map after 3 convolution steps:\n",
      "[[-0.07108221  0.86991363 -0.33960488  0.          0.        ]\n",
      " [ 0.          0.          0.          0.          0.        ]\n",
      " [ 0.          0.          0.          0.          0.        ]\n",
      " [ 0.          0.          0.          0.          0.        ]\n",
      " [ 0.          0.          0.          0.          0.        ]]\n",
      " \n",
      "Feature map after 4 convolution steps:\n",
      "[[-0.07108221  0.86991363 -0.33960488  0.37121286  0.        ]\n",
      " [ 0.          0.          0.          0.          0.        ]\n",
      " [ 0.          0.          0.          0.          0.        ]\n",
      " [ 0.          0.          0.          0.          0.        ]\n",
      " [ 0.          0.          0.          0.          0.        ]]\n",
      " \n",
      "Feature map after 5 convolution steps:\n",
      "[[-0.07108221  0.86991363 -0.33960488  0.37121286  0.90483994]\n",
      " [ 0.          0.          0.          0.          0.        ]\n",
      " [ 0.          0.          0.          0.          0.        ]\n",
      " [ 0.          0.          0.          0.          0.        ]\n",
      " [ 0.          0.          0.          0.          0.        ]]\n",
      " \n",
      "Feature map after 6 convolution steps:\n",
      "[[-0.07108221  0.86991363 -0.33960488  0.37121286  0.90483994]\n",
      " [ 0.1237302   0.          0.          0.          0.        ]\n",
      " [ 0.          0.          0.          0.          0.        ]\n",
      " [ 0.          0.          0.          0.          0.        ]\n",
      " [ 0.          0.          0.          0.          0.        ]]\n",
      " \n",
      "Feature map after 7 convolution steps:\n",
      "[[-0.07108221  0.86991363 -0.33960488  0.37121286  0.90483994]\n",
      " [ 0.1237302   0.7822606   0.          0.          0.        ]\n",
      " [ 0.          0.          0.          0.          0.        ]\n",
      " [ 0.          0.          0.          0.          0.        ]\n",
      " [ 0.          0.          0.          0.          0.        ]]\n",
      " \n",
      "Feature map after 8 convolution steps:\n",
      "[[-0.07108221  0.86991363 -0.33960488  0.37121286  0.90483994]\n",
      " [ 0.1237302   0.7822606   0.27262105  0.          0.        ]\n",
      " [ 0.          0.          0.          0.          0.        ]\n",
      " [ 0.          0.          0.          0.          0.        ]\n",
      " [ 0.          0.          0.          0.          0.        ]]\n",
      " \n",
      "Feature map after 9 convolution steps:\n",
      "[[-0.07108221  0.86991363 -0.33960488  0.37121286  0.90483994]\n",
      " [ 0.1237302   0.7822606   0.27262105  0.58871716  0.        ]\n",
      " [ 0.          0.          0.          0.          0.        ]\n",
      " [ 0.          0.          0.          0.          0.        ]\n",
      " [ 0.          0.          0.          0.          0.        ]]\n",
      " \n",
      "Feature map after 10 convolution steps:\n",
      "[[-0.07108221  0.86991363 -0.33960488  0.37121286  0.90483994]\n",
      " [ 0.1237302   0.7822606   0.27262105  0.58871716 -0.26693546]\n",
      " [ 0.          0.          0.          0.          0.        ]\n",
      " [ 0.          0.          0.          0.          0.        ]\n",
      " [ 0.          0.          0.          0.          0.        ]]\n",
      " \n",
      "Feature map after 11 convolution steps:\n",
      "[[-0.07108221  0.86991363 -0.33960488  0.37121286  0.90483994]\n",
      " [ 0.1237302   0.7822606   0.27262105  0.58871716 -0.26693546]\n",
      " [ 0.46185621  0.          0.          0.          0.        ]\n",
      " [ 0.          0.          0.          0.          0.        ]\n",
      " [ 0.          0.          0.          0.          0.        ]]\n",
      " \n",
      "Feature map after 12 convolution steps:\n",
      "[[-0.07108221  0.86991363 -0.33960488  0.37121286  0.90483994]\n",
      " [ 0.1237302   0.7822606   0.27262105  0.58871716 -0.26693546]\n",
      " [ 0.46185621  0.04743171  0.          0.          0.        ]\n",
      " [ 0.          0.          0.          0.          0.        ]\n",
      " [ 0.          0.          0.          0.          0.        ]]\n",
      " \n",
      "Feature map after 13 convolution steps:\n",
      "[[-0.07108221  0.86991363 -0.33960488  0.37121286  0.90483994]\n",
      " [ 0.1237302   0.7822606   0.27262105  0.58871716 -0.26693546]\n",
      " [ 0.46185621  0.04743171  0.0432625   0.          0.        ]\n",
      " [ 0.          0.          0.          0.          0.        ]\n",
      " [ 0.          0.          0.          0.          0.        ]]\n",
      " \n",
      "Feature map after 14 convolution steps:\n",
      "[[-0.07108221  0.86991363 -0.33960488  0.37121286  0.90483994]\n",
      " [ 0.1237302   0.7822606   0.27262105  0.58871716 -0.26693546]\n",
      " [ 0.46185621  0.04743171  0.0432625   0.04009139  0.        ]\n",
      " [ 0.          0.          0.          0.          0.        ]\n",
      " [ 0.          0.          0.          0.          0.        ]]\n",
      " \n",
      "Feature map after 15 convolution steps:\n",
      "[[-0.07108221  0.86991363 -0.33960488  0.37121286  0.90483994]\n",
      " [ 0.1237302   0.7822606   0.27262105  0.58871716 -0.26693546]\n",
      " [ 0.46185621  0.04743171  0.0432625   0.04009139  0.07014573]\n",
      " [ 0.          0.          0.          0.          0.        ]\n",
      " [ 0.          0.          0.          0.          0.        ]]\n",
      " \n",
      "Feature map after 16 convolution steps:\n",
      "[[-0.07108221  0.86991363 -0.33960488  0.37121286  0.90483994]\n",
      " [ 0.1237302   0.7822606   0.27262105  0.58871716 -0.26693546]\n",
      " [ 0.46185621  0.04743171  0.0432625   0.04009139  0.07014573]\n",
      " [ 1.35943299  0.          0.          0.          0.        ]\n",
      " [ 0.          0.          0.          0.          0.        ]]\n",
      " \n",
      "Feature map after 17 convolution steps:\n",
      "[[-0.07108221  0.86991363 -0.33960488  0.37121286  0.90483994]\n",
      " [ 0.1237302   0.7822606   0.27262105  0.58871716 -0.26693546]\n",
      " [ 0.46185621  0.04743171  0.0432625   0.04009139  0.07014573]\n",
      " [ 1.35943299  0.20941838  0.          0.          0.        ]\n",
      " [ 0.          0.          0.          0.          0.        ]]\n",
      " \n",
      "Feature map after 18 convolution steps:\n",
      "[[-0.07108221  0.86991363 -0.33960488  0.37121286  0.90483994]\n",
      " [ 0.1237302   0.7822606   0.27262105  0.58871716 -0.26693546]\n",
      " [ 0.46185621  0.04743171  0.0432625   0.04009139  0.07014573]\n",
      " [ 1.35943299  0.20941838 -0.35786167  0.          0.        ]\n",
      " [ 0.          0.          0.          0.          0.        ]]\n",
      " \n",
      "Feature map after 19 convolution steps:\n",
      "[[-0.07108221  0.86991363 -0.33960488  0.37121286  0.90483994]\n",
      " [ 0.1237302   0.7822606   0.27262105  0.58871716 -0.26693546]\n",
      " [ 0.46185621  0.04743171  0.0432625   0.04009139  0.07014573]\n",
      " [ 1.35943299  0.20941838 -0.35786167  0.75002149  0.        ]\n",
      " [ 0.          0.          0.          0.          0.        ]]\n",
      " \n",
      "Feature map after 20 convolution steps:\n",
      "[[-0.07108221  0.86991363 -0.33960488  0.37121286  0.90483994]\n",
      " [ 0.1237302   0.7822606   0.27262105  0.58871716 -0.26693546]\n",
      " [ 0.46185621  0.04743171  0.0432625   0.04009139  0.07014573]\n",
      " [ 1.35943299  0.20941838 -0.35786167  0.75002149  0.80372617]\n",
      " [ 0.          0.          0.          0.          0.        ]]\n",
      " \n",
      "Feature map after 21 convolution steps:\n",
      "[[-0.07108221  0.86991363 -0.33960488  0.37121286  0.90483994]\n",
      " [ 0.1237302   0.7822606   0.27262105  0.58871716 -0.26693546]\n",
      " [ 0.46185621  0.04743171  0.0432625   0.04009139  0.07014573]\n",
      " [ 1.35943299  0.20941838 -0.35786167  0.75002149  0.80372617]\n",
      " [ 0.21541956  0.          0.          0.          0.        ]]\n",
      " \n",
      "Feature map after 22 convolution steps:\n",
      "[[-0.07108221  0.86991363 -0.33960488  0.37121286  0.90483994]\n",
      " [ 0.1237302   0.7822606   0.27262105  0.58871716 -0.26693546]\n",
      " [ 0.46185621  0.04743171  0.0432625   0.04009139  0.07014573]\n",
      " [ 1.35943299  0.20941838 -0.35786167  0.75002149  0.80372617]\n",
      " [ 0.21541956  0.15455205  0.          0.          0.        ]]\n",
      " \n",
      "Feature map after 23 convolution steps:\n",
      "[[-0.07108221  0.86991363 -0.33960488  0.37121286  0.90483994]\n",
      " [ 0.1237302   0.7822606   0.27262105  0.58871716 -0.26693546]\n",
      " [ 0.46185621  0.04743171  0.0432625   0.04009139  0.07014573]\n",
      " [ 1.35943299  0.20941838 -0.35786167  0.75002149  0.80372617]\n",
      " [ 0.21541956  0.15455205 -0.23941569  0.          0.        ]]\n",
      " \n",
      "Feature map after 24 convolution steps:\n",
      "[[-0.07108221  0.86991363 -0.33960488  0.37121286  0.90483994]\n",
      " [ 0.1237302   0.7822606   0.27262105  0.58871716 -0.26693546]\n",
      " [ 0.46185621  0.04743171  0.0432625   0.04009139  0.07014573]\n",
      " [ 1.35943299  0.20941838 -0.35786167  0.75002149  0.80372617]\n",
      " [ 0.21541956  0.15455205 -0.23941569  0.22444647  0.        ]]\n",
      " \n",
      "Feature map after 25 convolution steps:\n",
      "[[-0.07108221  0.86991363 -0.33960488  0.37121286  0.90483994]\n",
      " [ 0.1237302   0.7822606   0.27262105  0.58871716 -0.26693546]\n",
      " [ 0.46185621  0.04743171  0.0432625   0.04009139  0.07014573]\n",
      " [ 1.35943299  0.20941838 -0.35786167  0.75002149  0.80372617]\n",
      " [ 0.21541956  0.15455205 -0.23941569  0.22444647  0.73957708]]\n",
      " \n"
     ]
    }
   ],
   "source": [
    "input_height, input_width = 10, 10\n",
    "gridlike_input = np.random.rand(input_height,input_width)\n",
    "\n",
    "kernel_height, kernel_width = 2, 2\n",
    "convolution_kernel = np.random.randn(kernel_height,kernel_width)\n",
    "\n",
    "padding = 0\n",
    "horizontal_stride, vertical_stride = kernel_width, kernel_height\n",
    "\n",
    "output_height = int((input_height + 2*padding - kernel_height) / vertical_stride) + 1   # law\n",
    "output_width = int((input_width + 2*padding - kernel_width) / horizontal_stride) + 1    # law\n",
    "feature_map = np.zeros((output_height,output_width))\n",
    "\n",
    "width_covered, height_covered, convolution_steps  = 0, 0, 0\n",
    "for row in range(output_height):\n",
    "    for column in range(output_width):\n",
    "        input_patch = gridlike_input[height_covered:kernel_height+height_covered,\n",
    "                                     width_covered:kernel_width+width_covered]\n",
    "        feature_map[row,column] = np.sum(input_patch*convolution_kernel)\n",
    "        width_covered += horizontal_stride\n",
    "        convolution_steps += 1\n",
    "        print(f\"Feature map after {convolution_steps} convolution steps:\")\n",
    "        print(feature_map)\n",
    "        print(\" \")\n",
    "    width_covered = 0\n",
    "    height_covered += vertical_stride"
   ]
  },
  {
   "cell_type": "markdown",
   "metadata": {},
   "source": [
    "The convolution of a grid-like input with a kernel is a peculiar type of network layer that we call _convolutional layer_. \n",
    "\n",
    "As it happens for standard network layers, the outputs of convolutional layers are fed into an activation function: "
   ]
  },
  {
   "cell_type": "code",
   "execution_count": 27,
   "metadata": {},
   "outputs": [
    {
     "name": "stdout",
     "output_type": "stream",
     "text": [
      "Convolutional layer's output:\n",
      "[[-0.07108221  0.86991363 -0.33960488  0.37121286  0.90483994]\n",
      " [ 0.1237302   0.7822606   0.27262105  0.58871716 -0.26693546]\n",
      " [ 0.46185621  0.04743171  0.0432625   0.04009139  0.07014573]\n",
      " [ 1.35943299  0.20941838 -0.35786167  0.75002149  0.80372617]\n",
      " [ 0.21541956  0.15455205 -0.23941569  0.22444647  0.73957708]]\n",
      " \n",
      "After sigmoid:\n",
      "[[0.48223693 0.70472773 0.41590546 0.59175201 0.71194309]\n",
      " [0.53089315 0.68616712 0.56773626 0.64307075 0.43365959]\n",
      " [0.61345443 0.5118557  0.51081394 0.5100215  0.51752925]\n",
      " [0.79566753 0.55216409 0.41147729 0.67918338 0.69077098]\n",
      " [0.55364759 0.53856128 0.44043035 0.55587724 0.67690337]]\n",
      " \n",
      "After ReLU:\n",
      "[[0.         0.86991363 0.         0.37121286 0.90483994]\n",
      " [0.1237302  0.7822606  0.27262105 0.58871716 0.        ]\n",
      " [0.46185621 0.04743171 0.0432625  0.04009139 0.07014573]\n",
      " [1.35943299 0.20941838 0.         0.75002149 0.80372617]\n",
      " [0.21541956 0.15455205 0.         0.22444647 0.73957708]]\n",
      " \n"
     ]
    }
   ],
   "source": [
    "print(\"Convolutional layer's output:\")\n",
    "print(feature_map)\n",
    "print(\" \")\n",
    "print(\"After sigmoid:\")\n",
    "print(sigmoid(feature_map))\n",
    "print(\" \")\n",
    "print(\"After ReLU:\")\n",
    "print(relu(feature_map))\n",
    "print(\" \")"
   ]
  },
  {
   "cell_type": "markdown",
   "metadata": {},
   "source": [
    "And as it happens with standard network layers, convolutional layers can be concatenated into a deep network!"
   ]
  },
  {
   "cell_type": "markdown",
   "metadata": {},
   "source": [
    "[Back to top](#back-to-top)"
   ]
  },
  {
   "cell_type": "markdown",
   "metadata": {},
   "source": [
    "## **Core Concept 3: Error-Driven Learning** <a class=\"anchor\" id=\"core-concept-3-error-driven-learning\"></a>"
   ]
  },
  {
   "cell_type": "markdown",
   "metadata": {},
   "source": [
    "### **3.0. Weights Shape Everything** <a class=\"anchor\" id=\"30-weights-shape-everything\"></a>"
   ]
  },
  {
   "cell_type": "markdown",
   "metadata": {},
   "source": [
    "So... Every layer in a network takes in something and transforms it into something else. The exact shape of this transformation depends on the weights:"
   ]
  },
  {
   "cell_type": "code",
   "execution_count": 35,
   "metadata": {},
   "outputs": [
    {
     "data": {
      "image/png": "[encoded data removed]",
      "text/plain": [
       "<Figure size 640x480 with 1 Axes>"
      ]
     },
     "metadata": {},
     "output_type": "display_data"
    }
   ],
   "source": [
    "some_weights = np.random.randn(NUMBER_OF_NEURONS,NUMBER_OF_INPUTS)\n",
    "some_other_weights = np.random.randn(NUMBER_OF_NEURONS,NUMBER_OF_INPUTS)\n",
    "\n",
    "activation_with_some_weights = network_layer(inputs=input_vector,\n",
    "                                             weights=some_weights,\n",
    "                                             bias=0,\n",
    "                                             activation_function=sigmoid)\n",
    "activation_with_some_other_weights = network_layer(inputs=input_vector,\n",
    "                                                   weights=some_other_weights,\n",
    "                                                   bias=0,\n",
    "                                                   activation_function=sigmoid)\n",
    "\n",
    "plt.plot(activation_with_some_weights.T, \n",
    "         marker=\"o\",\n",
    "         label=\"with some weights\");\n",
    "plt.plot(activation_with_some_other_weights.T, \n",
    "         marker=\"o\",\n",
    "         label=\"with some other weights\");\n",
    "plt.title(\"Same data x different weights = different activations\");\n",
    "plt.xticks(ticks=[0,1,2],\n",
    "           labels=[\"Neuron 1\", \"Neuron 2\", \"Neuron 3\"]);\n",
    "plt.legend();"
   ]
  },
  {
   "cell_type": "markdown",
   "metadata": {},
   "source": [
    "We face two related facts:\n",
    "\n",
    "1. An ANN's output is shaped by the weights\n",
    "    - When weights change, so does the output\n",
    "2. If you want a network to produce a given output, you need to change the weights"
   ]
  },
  {
   "cell_type": "markdown",
   "metadata": {},
   "source": [
    "These facts create a problem: how can you change the weights towards a desired outputs?\n",
    "- You do _**error driven learning**_ "
   ]
  },
  {
   "cell_type": "markdown",
   "metadata": {},
   "source": [
    "### **3.1. What is Error-Driven Learning?** <a class=\"anchor\" id=\"31-what-is-error-driven-learning\"></a>"
   ]
  },
  {
   "cell_type": "markdown",
   "metadata": {},
   "source": [
    "Error-driven learning is a simple algorithm (i.e., a sequence of actions):\n",
    "\n",
    "1. Feed your data into the ANN\n",
    "2. Compare the output to a target (i.e., a desired output)\n",
    "3. Calculate the error\n",
    "3. Change the weights \n",
    "4. Repeat until the error tends to zero"
   ]
  },
  {
   "cell_type": "markdown",
   "metadata": {},
   "source": [
    "### **3.2. The Rules of Error-Driven Learning** <a class=\"anchor\" id=\"32-the-rules-of-error-driven-learning\"></a>"
   ]
  },
  {
   "cell_type": "markdown",
   "metadata": {},
   "source": [
    "In order to work, error-driven learning must obey three rules:\n",
    "\n",
    "1. Weights must change in a way that minimises the error\n",
    "\n",
    "2. Different weights must change differently\n",
    "    - Because some contribute to the error more than others\n",
    "    \n",
    "3. Weights cannot change at random\n",
    "    - Otherwise, learning might take forever"
   ]
  },
  {
   "cell_type": "markdown",
   "metadata": {},
   "source": [
    "### **3.3. The Prerequisites for Error-Driven Learning** <a class=\"anchor\" id=\"33-the-prerequisites-for-error-driven-learning\"></a>"
   ]
  },
  {
   "cell_type": "markdown",
   "metadata": {},
   "source": [
    "In light of its rules, error-driven learning needs:\n",
    "\n",
    "1. An error function (a.k.a. _loss_ function)\n",
    "    - To compute the distance between real and desired output\n",
    "\n",
    "2. A [derivative](https://en.wikipedia.org/wiki/Derivative) of the error function with respect to the weights\n",
    "    - To quantify the contribution of each weight to the error function  \n",
    "    \n",
    "3. A rule to change weights appropriately\n",
    "    - Often, that's error backpropagation"
   ]
  },
  {
   "cell_type": "markdown",
   "metadata": {},
   "source": [
    "### **3.4. Error Backpropagation** <a class=\"anchor\" id=\"34-error-backpropagation\"></a>"
   ]
  },
  {
   "cell_type": "markdown",
   "metadata": {},
   "source": [
    "Error backpropagation is the most basic and most common rule to change weights. \n",
    "\n",
    "In error backpropagation, we subtract from each weight a small fraction of its contribution to the error: "
   ]
  },
  {
   "cell_type": "markdown",
   "metadata": {},
   "source": [
    "$$ w_i \\leftarrow w_i - \\alpha \\frac{\\delta L_{\\vec{w}}}{\\delta w_i} $$\n",
    "\n",
    "where\n",
    "\n",
    "- $ w_i = $ any given weight\n",
    "\n",
    "- $ \\alpha = $ the _learning rate_, i.e., an arbitrary coefficient between 0 and 1\n",
    "\n",
    "- $ \\displaystyle \\frac{\\delta L_{\\vec{w}}}{\\delta w_i} = $ the derivative of loss function $ L $ with respect to $ w_i $\n",
    "    - That's a measure of $ w_i $'s contribution to $ L $"
   ]
  },
  {
   "cell_type": "markdown",
   "metadata": {},
   "source": [
    "Note that $ \\displaystyle \\frac{\\delta L_{\\vec{w}}}{\\delta w_i}  $ can be positive or negative\n",
    "\n",
    "- If it's positive, it means that the weight is increasing the error\n",
    "    - We like that weight and we increase it \n",
    "- If it's negative, it means that the weight is decreasing the error\n",
    "    - We don't like that weight and we decrease it \n",
    "\n",
    "If you can't see these facts in the mathematical formulation, you can (optionally) check out the explanation below."
   ]
  },
  {
   "cell_type": "markdown",
   "metadata": {},
   "source": [
    "#### **Optional: Proof that Error Backpropagation Changes Weights Smartly**"
   ]
  },
  {
   "cell_type": "markdown",
   "metadata": {},
   "source": [
    "Consider four facts:\n",
    "1. An increasing error corresponds to an increasing error function\n",
    "2. A decreasing error corresponds to a decreasing error function\n",
    "3. In general, the derivative of a function is:\n",
    "    - Positive where the function is increasing\n",
    "    - Negative where the function is decreasing\n",
    "\n",
    "These facts imply the following:\n",
    "\n",
    "1. Weights that increase the error function are decreased (by _subtracting_ a fraction of their contribution to the error)\n",
    "\n",
    "    $$ \\Bigg ( \\frac{\\delta L_{\\vec{w}}}{\\delta w_i} > 0 \\Bigg ) \\implies \\Bigg [ \\Bigg ( w_i \\leftarrow w_i - \\alpha \\frac{\\delta L_{\\vec{w}}}{\\delta w_i} \\Bigg ) = \\Bigg ( w_i \\leftarrow w_i - \\Big (+ \\alpha \\frac{\\delta L_{\\vec{w}}}{\\delta w_i} \\Big ) \\Bigg ) = \\Bigg ( w_i \\leftarrow w_i - \\alpha \\frac{\\delta L_{\\vec{w}}}{\\delta w_i} \\Bigg ) \\Bigg ]  $$ \n",
    "    \n",
    "    (note: minus times plus equals minus)\n",
    "\n",
    "\n",
    "2. Weights that decrease the error function are increased (by _adding_ a fraction of their contribution to the error)\n",
    "\n",
    "    $$ \\Bigg ( \\frac{\\delta L_{\\vec{w}}}{\\delta w_i} < 0 \\Bigg ) \\implies \\Bigg ( \\alpha \\frac{\\delta L_{\\vec{w}}}{\\delta w_i} = - \\alpha \\frac{\\delta L_{\\vec{w}}}{\\delta w_i} \\Bigg ) \\implies \\Bigg [ \\Bigg ( w_i \\leftarrow w_i - \\alpha \\frac{\\delta L_{\\vec{w}}}{\\delta w_i} \\Bigg ) = \\Bigg ( w_i \\leftarrow w_i - \\Big (- \\alpha \\frac{\\delta L_{\\vec{w}}}{\\delta w_i} \\Big ) \\Bigg ) = \\Bigg ( w_i \\leftarrow w_i + \\alpha \\frac{\\delta L_{\\vec{w}}}{\\delta w_i} \\Bigg ) \\Bigg ]  $$ \n",
    "\n",
    "    (note: minus times minus equals plus)\n",
    "    \n",
    "\n",
    "That's it."
   ]
  },
  {
   "cell_type": "markdown",
   "metadata": {},
   "source": [
    "### **3.5. Training, Validation, and Testing** <a class=\"anchor\" id=\"35-training-validation-and-testing\"></a>"
   ]
  },
  {
   "cell_type": "markdown",
   "metadata": {},
   "source": [
    "Usually, we don't want an algorithm to produce a desired output _once_. We want it to produce the desired output _forever_. \n",
    "\n",
    "To produce a desired output in a stable fashion, an algorithm must acquire **strong** knowledge about a given domain\n",
    "- For example, learn to recognise an image as containing a cat, everytime there is cat \n",
    "\n",
    "Knowledge is strong when it's based on the intrinsic, defining features of the data. \n",
    "\n",
    "Strong knowledge is:\n",
    "- Robust to small, contextual changes of the data \n",
    "    - You must recognise a cat regardless of it being brown, black, or spotted\n",
    "- Based on the data of interest, not on spurious covariates\n",
    "    - You must recognise a cat because it's a cat, not because it's always close to a cup of milk. Otherwise, you won't recognise it when you see it without milk    "
   ]
  },
  {
   "cell_type": "markdown",
   "metadata": {},
   "source": [
    "ANNs, CNNs, and other [machine learning](https://en.wikipedia.org/wiki/Machine_learning) algorithms acquire strong knowledge when: \n",
    "\n",
    "- They are exposed to a **large** body of data \n",
    "    - The more you see, the more you learn\n",
    "- They are exposed to a **rich** body of data \n",
    "    - Not all cats are brown\n",
    "- They can generalise their knowledge\n",
    "    - You can't see all the cats in the world. But when you meet a new cat, you must recognise it as such"
   ]
  },
  {
   "cell_type": "markdown",
   "metadata": {},
   "source": [
    "To favour strong knowledge, a typical learning algorithm undergoes three phases:\n",
    "\n",
    "- **Training:** the algorithm does error-driven learning on a (hopefully large) body of data. Recall that _error-driven learning_ means:\n",
    "\n",
    "    1. Feed your data into the ANN\n",
    "    2. Compare the output to a target (i.e., a desired output)\n",
    "    3. Calculate the error\n",
    "    3. Change the weights \n",
    "    4. Repeat until the error tends to zero\n",
    "- **Validation:** every $ n $ training iterations, the algorithm is fed some previously unseen samples\n",
    "    - Weights are not changed\n",
    "    - This is just an online sanity check for the training process\n",
    "- **Testing:** at the end of the training/validation cycle, the algorithm is fed some more previously unseen samples\n",
    "    - Weights are not changed\n",
    "    - This is the moment of truth: has the algorithm acquired robust knowledge?"
   ]
  },
  {
   "cell_type": "markdown",
   "metadata": {},
   "source": [
    "[Back to top](#back-to-top)"
   ]
  },
  {
   "cell_type": "markdown",
   "metadata": {},
   "source": [
    "# **Part 2: The Implementation** <a class=\"anchor\" id=\"part-2-the-implementation\"></a>"
   ]
  },
  {
   "cell_type": "markdown",
   "metadata": {},
   "source": [
    "So far, we have seen toy examples of artificial neurons and ANN layers. \n",
    "\n",
    "Despite dealing with simplified scenarios, the code examples got more and more complex as we progressed through the tutorial. \n",
    "- Think about the convolution example: complex-ish, no?\n",
    "- Imagine coding a full network, the backpropagation algorithm, and the whole training-validation-test cycle!\n",
    "\n",
    "To survive real-world scenarios, we need a codebase that abstracts away the details and let us focus on high-level choices. "
   ]
  },
  {
   "cell_type": "markdown",
   "metadata": {},
   "source": [
    "## **Enter: PyTorch** <a class=\"anchor\" id=\"enter-pytorch\"></a>"
   ]
  },
  {
   "cell_type": "markdown",
   "metadata": {},
   "source": [
    "[PyTorch](https://pytorch.org/) is a Python library to build, train, and test deep artificial neural networks\n",
    "\n",
    "<p align=\"center\">\n",
    "  <img src=\"https://upload.wikimedia.org/wikipedia/commons/c/c6/PyTorch_logo_black.svg\" />\n",
    "</p>"
   ]
  },
  {
   "cell_type": "markdown",
   "metadata": {},
   "source": [
    "Like many other Python libraries, PyTorch is:\n",
    "- Free\n",
    "- Open source\n",
    "- The result of a large-scale collaborative effort\n",
    "\n",
    "If you use PyTorch in published work, remember to cite the authors:\n",
    "\n",
    "[Paszke, A., Gross, S., Massa, F., Lerer, A., Bradbury, J., Chanan, G., ... & Chintala, S. (2019). PyTorch: An Imperative Style, High-Performance Deep Learning Library. _Advances in Neural Information Processing Systems_, 32](https://proceedings.neurips.cc/paper/2019/hash/bdbca288fee7f92f2bfa9f7012727740-Abstract.html)\n",
    "\n",
    "The more we reward open source efforts, the more we liberate research from market rules!"
   ]
  },
  {
   "cell_type": "markdown",
   "metadata": {},
   "source": [
    "PyTorch contains classes and functions to: \n",
    "\n",
    "- Download and use publicly available datasets \n",
    "- Set up any kind of ANN architecture\n",
    "- Train ANNs with a variety of learning algorithms\n",
    "- Exploit the parallel computing capabilities of graphics processing units (GPUs), which accelerate computations"
   ]
  },
  {
   "cell_type": "markdown",
   "metadata": {},
   "source": [
    "PyTorch is fully compatible with the Python scientific computing ecosystem - in particular, it is well-integrated with NumPy. \n",
    "\n",
    "You can install PyTorch via `conda` or `pip`, following the instructions on the [PyTorch homepage](https://pytorch.org/). But it's probably faster to get started on Colab - especially because your computer is probably not powerful enough for deep learning. \n",
    "\n",
    "[![Open In Colab](https://colab.research.google.com/assets/colab-badge.svg)](https://colab.research.google.com/github/vigji/python-cimec-2024/blob/main/lectures/Lecture3.3_Artificial-Neural-Nets-ConvNets.ipynb)"
   ]
  },
  {
   "cell_type": "markdown",
   "metadata": {},
   "source": [
    "Once installed (or, once opened this notebook in Colab), you can start using PyTorch with a simple import statement:"
   ]
  },
  {
   "cell_type": "code",
   "execution_count": 1,
   "metadata": {},
   "outputs": [],
   "source": [
    "import torch"
   ]
  },
  {
   "cell_type": "markdown",
   "metadata": {},
   "source": [
    "## **Tensors, Datasets, & DataLoaders** <a class=\"anchor\" id=\"tensors-datasets--dataloaders\"></a>"
   ]
  },
  {
   "cell_type": "markdown",
   "metadata": {},
   "source": [
    "In the following, we will use PyTorch to build a CNN for image recognition. Therefore, we will need some images to work with. \n",
    "\n",
    "PyTorch has a companion library that contains classes and functions to work with images. This companion library is called `torchvision`.\n",
    "\n",
    "Among other things, `torchvision` contains a `datasets` package (a package is a collection of `.py` files), which provides tools to download and use publicly available image datasets. \n",
    "\n",
    "We will use the [MNIST dataset of handwritten digits](https://en.wikipedia.org/wiki/MNIST_database), which contains $70000$ handwriting samples of the numbers from $0$ to $9$, encoded as $28$ x $28$ grids of grayscale luminosity values.  \n",
    "\n",
    "<p align=\"center\">\n",
    "  <img src=\".files/mnist-samples.png\" />\n",
    "</p>"
   ]
  },
  {
   "cell_type": "markdown",
   "metadata": {},
   "source": [
    "The code below downloads MNIST from its online repository. We do two separate downloads for the training and test datasets, assigning each to a separate variable.  "
   ]
  },
  {
   "cell_type": "code",
   "execution_count": null,
   "metadata": {},
   "outputs": [],
   "source": [
    "import torchvision\n",
    "import torchvision.transforms as transforms\n",
    "\n",
    "training_dataset = torchvision.datasets.MNIST(root=\"classifier data\", \n",
    "                                              train=True, \n",
    "                                              download=True, \n",
    "                                              transform=transforms.ToTensor())\n",
    "test_dataset = torchvision.datasets.MNIST(root=\"classifier data\", \n",
    "                                          train=False, \n",
    "                                          download=True, \n",
    "                                          transform=transforms.ToTensor())"
   ]
  },
  {
   "cell_type": "markdown",
   "metadata": {},
   "source": [
    "The variables that we created are _dataset objects_. A dataset object implements two crucially important methods:\n",
    "\n",
    "- `__len__()`, which allows users to get the dataset's length\n",
    "- `__getitem__()`, which allows users to index into the dataset\n",
    "\n",
    "The double underscore before and after the two methods' names tells us that those methods are _private_. This means that we don't call them explicitly, but they work under the hood when we call `len(dataset)` and `dataset[index]` (respectively)."
   ]
  },
  {
   "cell_type": "markdown",
   "metadata": {},
   "source": [
    "Let's leverage `__len__()` to check how many samples we have:"
   ]
  },
  {
   "cell_type": "code",
   "execution_count": 11,
   "metadata": {},
   "outputs": [
    {
     "name": "stdout",
     "output_type": "stream",
     "text": [
      "The training dataset contains 60000 samples, while the test dataset contains 10000.\n"
     ]
    }
   ],
   "source": [
    "training_dataset_length = len(training_dataset)\n",
    "test_dataset_length = len(test_dataset)\n",
    "\n",
    "print(f\"The training dataset contains {training_dataset_length} samples, while the test dataset contains {test_dataset_length}.\")"
   ]
  },
  {
   "cell_type": "markdown",
   "metadata": {},
   "source": [
    "Not bad! Now let's leverage `__getitem__()` to inspect those samples and see what they look like. \n",
    "\n",
    "We will use one training sample as case study, but everything will apply equally to test samples."
   ]
  },
  {
   "cell_type": "code",
   "execution_count": 6,
   "metadata": {},
   "outputs": [],
   "source": [
    "one_training_sample = training_dataset[0]"
   ]
  },
  {
   "cell_type": "markdown",
   "metadata": {},
   "source": [
    "We extracted one sample from the training dataset. But, what type of data structure is it?"
   ]
  },
  {
   "cell_type": "code",
   "execution_count": 7,
   "metadata": {},
   "outputs": [
    {
     "data": {
      "text/plain": [
       "tuple"
      ]
     },
     "execution_count": 7,
     "metadata": {},
     "output_type": "execute_result"
    }
   ],
   "source": [
    "type(one_training_sample)"
   ]
  },
  {
   "cell_type": "markdown",
   "metadata": {},
   "source": [
    "Apparently, each sample is a tuple. How many elements are contained in it?"
   ]
  },
  {
   "cell_type": "code",
   "execution_count": 8,
   "metadata": {},
   "outputs": [
    {
     "data": {
      "text/plain": [
       "2"
      ]
     },
     "execution_count": 8,
     "metadata": {},
     "output_type": "execute_result"
    }
   ],
   "source": [
    "len(one_training_sample)"
   ]
  },
  {
   "cell_type": "markdown",
   "metadata": {},
   "source": [
    "Two items in each tuple! What are those items?\n",
    "\n",
    "- The first item is an image\n",
    "- The second item is a label that communicates the content of the image\n",
    "\n",
    "To make things clearer, let's [unpack the tuple](https://realpython.com/python-tuple/#packing-and-unpacking-tuples) and assign each of its items to a separate variable with an explanatory name.  "
   ]
  },
  {
   "cell_type": "code",
   "execution_count": 9,
   "metadata": {},
   "outputs": [],
   "source": [
    "image, label = one_training_sample"
   ]
  },
  {
   "cell_type": "markdown",
   "metadata": {},
   "source": [
    "Now let's delve a bit deeper into both variables, starting from the label:"
   ]
  },
  {
   "cell_type": "code",
   "execution_count": 10,
   "metadata": {},
   "outputs": [
    {
     "name": "stdout",
     "output_type": "stream",
     "text": [
      "This sample's label is: 5. Its datatype is: <class 'int'>\n"
     ]
    }
   ],
   "source": [
    "print(f\"This sample's label is: {label}. Its datatype is: {type(label)}\")"
   ]
  },
  {
   "cell_type": "markdown",
   "metadata": {},
   "source": [
    "Apparently, the image contains a 5. Its label is a number (indeed, $5$) that's encoded as an `int`.  \n",
    "\n",
    "But, how is the image encoded? In other words, what type of data structure is it?"
   ]
  },
  {
   "cell_type": "code",
   "execution_count": 11,
   "metadata": {},
   "outputs": [
    {
     "data": {
      "text/plain": [
       "torch.Tensor"
      ]
     },
     "execution_count": 11,
     "metadata": {},
     "output_type": "execute_result"
    }
   ],
   "source": [
    "type(image)"
   ]
  },
  {
   "cell_type": "markdown",
   "metadata": {},
   "source": [
    "The image is encoded as a PyTorch tensor! \n",
    "\n",
    "A tensor is basically an array with an arbitrary number of dimensions: while a vector has 1 dimension and a matrix has 2, a tensor can have any. \n",
    "\n",
    "PyTorch tensors are basically the same as NumPy arrays, except that:\n",
    "- They can be loaded into GPUs\n",
    "- They are optimised for fast and automatic differentiation of the functions that they represent (which is useful for backpropagation) \n",
    "\n",
    "These facts will make increasing sense as we proceed."
   ]
  },
  {
   "cell_type": "markdown",
   "metadata": {},
   "source": [
    "Like NumPy arrays, PyTorch tensors have a `.shape` attribute. When you access it, you get a variable of type `torch.Size` with information about the the tensor's shape:"
   ]
  },
  {
   "cell_type": "code",
   "execution_count": 12,
   "metadata": {},
   "outputs": [
    {
     "name": "stdout",
     "output_type": "stream",
     "text": [
      "The shape of our image tensor is: torch.Size([1, 28, 28])\n"
     ]
    }
   ],
   "source": [
    "print(f\"The shape of our image tensor is: {image.shape}\")"
   ]
  },
  {
   "cell_type": "markdown",
   "metadata": {},
   "source": [
    "Apparently, the shape is $1$ x $28$ x $28$. This means that the tensor contains $1$ image whose shape is $28$ x $28$ (pixels). Let's see it!"
   ]
  },
  {
   "cell_type": "code",
   "execution_count": 15,
   "metadata": {},
   "outputs": [
    {
     "data": {
      "image/png": "[encoded data removed]",
      "text/plain": [
       "<Figure size 640x480 with 1 Axes>"
      ]
     },
     "metadata": {},
     "output_type": "display_data"
    }
   ],
   "source": [
    "import matplotlib.pyplot as plt\n",
    "\n",
    "plt.imshow(image.squeeze(), cmap=\"gray\"); # the `.squeeze()` method suppresses the singleton dimension, allowing 2d plotting"
   ]
  },
  {
   "cell_type": "markdown",
   "metadata": {},
   "source": [
    "It's not beautiful ($28$ x $28$ is low resolution), but it's a 5!"
   ]
  },
  {
   "cell_type": "markdown",
   "metadata": {},
   "source": [
    "**Interim summary**\n",
    "\n",
    "- There is a Python library called PyTorch\n",
    "- PyTorch has a companion library called `torchvision`, which contains [computer vision](https://www.ibm.com/topics/computer-vision) utilities\n",
    "    - `torchvision` contains a package called `datasets`, which provides access to a number of freely downloadable image datasets\n",
    "- Once downloaded and assigned to a variable, each dataset becomes a `Dataset` object\n",
    "    - `Dataset` objects have a length\n",
    "    - `Dataset` objects can be indexed to access specific samples\n",
    "- Each sample in a `Dataset` object is a tuple that contains: \n",
    "    - One image\n",
    "    - One label \n",
    "    \n",
    "    (at least, this is true of object recognition datasets)\n",
    "- Labels are encoded as `int`s, while images are encoded as Pytorch `tensor`s\n",
    "- A PyTorch `tensor` is a pumped-up NumPy array"
   ]
  },
  {
   "cell_type": "markdown",
   "metadata": {},
   "source": [
    "## **Building a CNN** <a class=\"anchor\" id=\"building-a-cnn\"></a>"
   ]
  },
  {
   "cell_type": "markdown",
   "metadata": {},
   "source": [
    "Now that we have the data, we can use them to train a CNN. But first, we need a CNN."
   ]
  },
  {
   "cell_type": "markdown",
   "metadata": {},
   "source": [
    "In PyTorch, neural networks are represented as classes."
   ]
  },
  {
   "cell_type": "markdown",
   "metadata": {},
   "source": [
    "## **Model Selection, a.k.a. Hyperparameter Tuning** <a class=\"anchor\" id=\"model-selection-aka-hyperparameter-tuning\"></a>"
   ]
  },
  {
   "cell_type": "markdown",
   "metadata": {},
   "source": [
    "## **The Training-Validation Loop** <a class=\"anchor\" id=\"the-training-validation-loop\"></a>"
   ]
  },
  {
   "cell_type": "markdown",
   "metadata": {},
   "source": [
    "## **Finally: The Test** <a class=\"anchor\" id=\"finally-the-test\"></a>"
   ]
  },
  {
   "cell_type": "markdown",
   "metadata": {},
   "source": [
    "## **Inspecting a Trained Model: Basic Techniques** <a class=\"anchor\" id=\"inspecting-a-trained-model-basic-techniques\"></a>"
   ]
  },
  {
   "cell_type": "markdown",
   "metadata": {},
   "source": [
    "[Back to top](#back-to-top)"
   ]
  }
 ],
 "metadata": {
  "kernelspec": {
   "display_name": "Python 3 (ipykernel)",
   "language": "python",
   "name": "python3"
  },
  "language_info": {
   "codemirror_mode": {
    "name": "ipython",
    "version": 3
   },
   "file_extension": ".py",
   "mimetype": "text/x-python",
   "name": "python",
   "nbconvert_exporter": "python",
   "pygments_lexer": "ipython3",
   "version": "3.10.13"
  }
 },
 "nbformat": 4,
 "nbformat_minor": 2
}
