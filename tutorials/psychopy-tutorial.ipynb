{
 "cells": [
  {
   "cell_type": "markdown",
   "id": "2a6d21bd",
   "metadata": {
    "slideshow": {
     "slide_type": "slide"
    }
   },
   "source": [
    "# **Introduction to PsychoPy** \n",
    " \n",
    "### [Matteo De Matola](https://github.com/matteo-d-m) \n",
    "\n",
    "[![Open In Colab](https://colab.research.google.com/assets/colab-badge.svg)](https://colab.research.google.com/github/coneco-lab/open-lab-toolkit/blob/main/tutorials/psychopy-tutorial.ipynb)"
   ]
  },
  {
   "cell_type": "markdown",
   "id": "ad7cb804",
   "metadata": {},
   "source": [
    "This notebook is a quick introduction to PsychoPy, a Python library to program psychological experiments. It aims to illustrate the 5 steps that must be taken to set up a standard cognitive neuroscience experiment, where subjects watch some kind of visual stimuli during neuroimaging. \n",
    "\n",
    "The material in this notebook was taught by me ([Matteo De Matola](https://github.com/matteo-d-m)) in Lecture 3.0 of [Python for (open) Neuroscience](https://github.com/vigji/python-cimec-2024) (2024 iteration), a course taught by Luigi Petrucco at the University of Trento's doctoral school in Cognitive \\& Brain Sciences. "
   ]
  },
  {
   "cell_type": "markdown",
   "id": "09e28fd8",
   "metadata": {
    "slideshow": {
     "slide_type": "slide"
    }
   },
   "source": [
    "## **[PsychoPy](https://psychopy.org/) is a Python library to program psychological experiments**  \n",
    "\n",
    "![PsychoPy logo](https://psychopy.org/_static/Psychopy%20Logotext.png)"
   ]
  },
  {
   "cell_type": "markdown",
   "id": "3113774d",
   "metadata": {
    "slideshow": {
     "slide_type": "slide"
    }
   },
   "source": [
    "Like many Python libraries, PsychoPy is:\n",
    "- Free\n",
    "- Open source\n",
    "- The result of a large-scale collaborative effort\n",
    "\n",
    "If you use PsychoPy in published work, remember to cite the authors:\n",
    "\n",
    "[Peirce, J., Gray, J. R., Simpson, S., MacAskill, M., Höchenberger, R., Sogo, H., ... & Lindeløv, J. K. (2019). PsychoPy2: Experiments in behavior made easy. Behavior Research Methods, 51, 195-203](https://link.springer.com/article/10.3758/s13428-018-01193-y)"
   ]
  },
  {
   "cell_type": "markdown",
   "id": "a444e717",
   "metadata": {
    "slideshow": {
     "slide_type": "slide"
    }
   },
   "source": [
    "PsychoPy contains functions and classes to:\n",
    "- Generate visual stimuli\n",
    "- Generate auditory stimuli\n",
    "- Time events\n",
    "- Interact with external hardware, including:\n",
    "    - Keyboards\n",
    "    - Response boxes\n",
    "    - Cameras\n",
    "    - Eye tracking devices\n",
    "    - Neuroimaging systems\n",
    "- & more\n",
    "\n",
    "Research at [CoN&Co](https://www.cimec.unitn.it/en/CoNeCo) involves people watching things on a screen and pressing buttons during neuroimaging.\n",
    "\n",
    "Therefore, this notebook will focus on:\n",
    "\n",
    "- Generating visual stimuli \n",
    "- Representing the screen and interacting with it\n",
    "- Presenting stimuli with the right timing\n",
    "- Representing different experimental conditions\n",
    "    - Their balance\n",
    "    - Their order\n",
    "- Representing buttons and encoding buttonpresses\n",
    "- Representing the neuroimaging system and interacting with it\n",
    "\n",
    "Unfortunately, PsychoPy does not work well when run from Jupyter notebooks like this one. Therefore, you should use this notebook as reading material and write your PsychoPy code in a separate Python (`.py`) file. **Don't try to run code cells from this notebook, or you will encounter errors that might get you stuck on frozen windows (and you might have to Ctrl+Alt+Canc your way out...)**"
   ]
  },
  {
   "cell_type": "markdown",
   "id": "84a7aa63",
   "metadata": {
    "slideshow": {
     "slide_type": "slide"
    }
   },
   "source": [
    "# **Step 1: Generating Visual Stimuli**"
   ]
  },
  {
   "cell_type": "markdown",
   "id": "a2f6f8b7",
   "metadata": {
    "slideshow": {
     "slide_type": "slide"
    }
   },
   "source": [
    "## **The `visual` module**"
   ]
  },
  {
   "cell_type": "markdown",
   "id": "23fd3e58",
   "metadata": {
    "slideshow": {
     "slide_type": "fragment"
    }
   },
   "source": [
    "The `visual` module is a subsection of PsychoPy that contains classes and functions to:\n",
    "\n",
    "- Draw a variety of geometric stimuli \n",
    "    - `ShapeStim`\n",
    "        - `Rect`\n",
    "        - `Circle`\n",
    "        - `Polygon`\n",
    "        - `Line`\n",
    "        - `Pie`\n",
    "- Display images and draw patterns\n",
    "    - `SimpleImageStim`\n",
    "    - `GratingStim`\n",
    "    - etc.\n",
    "- & more: go [here](https://psychopy.org/api/visual/index.html) for the full list of options and the associated documentation"
   ]
  },
  {
   "cell_type": "markdown",
   "id": "9cf374e6",
   "metadata": {
    "slideshow": {
     "slide_type": "slide"
    }
   },
   "source": [
    "Stimuli are drawn on a specific _window_, which you can think of as one of the usual windows on your computer (e.g., a browser window or a Microsoft Word window). \n",
    "This window can be as large as the screen, or smaller.  \n",
    "\n",
    "Opening a window is as simple as:"
   ]
  },
  {
   "cell_type": "code",
   "execution_count": null,
   "id": "201cad18",
   "metadata": {
    "slideshow": {
     "slide_type": "fragment"
    }
   },
   "outputs": [],
   "source": [
    "from psychopy import visual\n",
    "\n",
    "window = visual.Window(color=\"black\")"
   ]
  },
  {
   "cell_type": "markdown",
   "id": "ac426711",
   "metadata": {
    "slideshow": {
     "slide_type": "slide"
    }
   },
   "source": [
    "`Window` objects represent the canvas where you draw your stimuli.   \n",
    "\n",
    "But that canvas cannot exist without some hardware to support it. That hardware is your monitor (or _screen_).\n",
    "\n",
    "Different monitors have different physical properties. The most basic ones are:\n",
    "- Height \n",
    "- Width\n",
    "- Pixel resolution\n",
    "\n",
    "Moreover, different monitors can be used in different ways: \n",
    "- Distance from screen\n",
    "    - Vital if your stimuli are in [degrees of visual angle (°VA)](https://en.wikipedia.org/wiki/Visual_angle)\n",
    "\n",
    "Specify the physical properties of your monitor and how you use it, or the `Window` class will be instantiated with default settings that might be suboptimal for you!"
   ]
  },
  {
   "cell_type": "code",
   "execution_count": null,
   "id": "f1c3547f",
   "metadata": {
    "slideshow": {
     "slide_type": "fragment"
    }
   },
   "outputs": [],
   "source": [
    "from psychopy import monitors\n",
    "\n",
    "MY_SCREEN_NAME = \"a_coneco_screen\"\n",
    "MY_PIXEL_WIDTH = 1366\n",
    "MY_PIXEL_HEIGHT = 768\n",
    "MY_SCREEN_WIDTH = 47 # cm\n",
    "SUBJECT_DISTANCE_FROM_SCREEN = 65 # cm\n",
    "\n",
    "monitor = monitors.Monitor(name=MY_SCREEN_NAME)\n",
    "monitor.setSizePix([MY_PIXEL_WIDTH, MY_PIXEL_HEIGHT])\n",
    "monitor.setWidth(MY_SCREEN_WIDTH)\n",
    "monitor.setDistance(SUBJECT_DISTANCE_FROM_SCREEN)                    \n",
    "monitor.saveMon()                    "
   ]
  },
  {
   "cell_type": "markdown",
   "id": "63afd22b",
   "metadata": {},
   "source": [
    "Once you have set monitor properties and initialised a window, you can draw a stimulus on it. \n",
    "\n",
    "For example, you can draw a white rectangle on a black background:"
   ]
  },
  {
   "cell_type": "code",
   "execution_count": null,
   "id": "1ebdbf14",
   "metadata": {},
   "outputs": [],
   "source": [
    "window = visual.Window(color=\"black\")\n",
    "stimulus = visual.rect.Rect(win=window,\n",
    "                            fillColor=\"white\")"
   ]
  },
  {
   "cell_type": "markdown",
   "id": "84150398",
   "metadata": {
    "slideshow": {
     "slide_type": "slide"
    }
   },
   "source": [
    "# **Step 2: Present Stimuli with the Right Timing**"
   ]
  },
  {
   "cell_type": "markdown",
   "id": "e5ddda9e",
   "metadata": {
    "slideshow": {
     "slide_type": "slide"
    }
   },
   "source": [
    "Timing can be very important. You need to make sure that:\n",
    "- Stimuli appear when you want them to\n",
    "- Stimuli remain on for as long as you want them to\n",
    "- Stimuli are synchronised to the physiological events of interest\n",
    "    - For example: if you are doing EEG, your stimuli will be probably interleaved by milliseconds (instead of seconds). But if you are doing fMRI, they will be interleaved by seconds"
   ]
  },
  {
   "cell_type": "markdown",
   "id": "2aa551a2",
   "metadata": {
    "slideshow": {
     "slide_type": "slide"
    }
   },
   "source": [
    "Each stimulus must have a given display time (measured in seconds).\n",
    "\n",
    "For example:"
   ]
  },
  {
   "cell_type": "code",
   "execution_count": null,
   "id": "4f220d49",
   "metadata": {
    "slideshow": {
     "slide_type": "subslide"
    }
   },
   "outputs": [],
   "source": [
    "display_time = 0.1 # one tenth of a second = 100 ms"
   ]
  },
  {
   "cell_type": "markdown",
   "id": "d06b3bc9",
   "metadata": {
    "slideshow": {
     "slide_type": "slide"
    }
   },
   "source": [
    "This display time must be transformed into a number of frames.\n",
    "- A frame is one of many still images that compose a complete moving picture ([Wikipedia](https://en.wikipedia.org/wiki/Film_frame))\n",
    "\n",
    "Importantly, different screens can display different numbers of frames in one second\n",
    "- The number of frames displayed per second is the frame (or _refresh_) rate (Hz) of your screen ([Wikipedia](https://en.wikipedia.org/wiki/Frame_rate))\n",
    "    - Often used interchangeably, but _refresh rate_ is better when talking about screens (and _frame rate_ when talking about GPUs) "
   ]
  },
  {
   "cell_type": "markdown",
   "id": "ab8560d8",
   "metadata": {
    "slideshow": {
     "slide_type": "slide"
    }
   },
   "source": [
    "To transform a display time into a number of frames, you must multiply it by your screen's refresh rate:"
   ]
  },
  {
   "cell_type": "code",
   "execution_count": null,
   "id": "55847d55",
   "metadata": {
    "slideshow": {
     "slide_type": "subslide"
    }
   },
   "outputs": [],
   "source": [
    "REFRESH_RATE = 60 # Hz\n",
    "frames_per_stimulus = display_time*REFRESH_RATE"
   ]
  },
  {
   "cell_type": "markdown",
   "id": "faa8ff8b",
   "metadata": {
    "slideshow": {
     "slide_type": "fragment"
    }
   },
   "source": [
    "The number of frames per item will serve as a range to iterate over.\n",
    "\n",
    "This means that you basically tell your machine: \"Display this item for as many frames as you can fit in a given time interval\":"
   ]
  },
  {
   "cell_type": "code",
   "execution_count": null,
   "id": "61fc74ef",
   "metadata": {
    "slideshow": {
     "slide_type": "fragment"
    }
   },
   "outputs": [],
   "source": [
    "for frame in range(frames_per_stimulus):\n",
    "    # display item"
   ]
  },
  {
   "cell_type": "markdown",
   "id": "4395fac9",
   "metadata": {
    "slideshow": {
     "slide_type": "slide"
    }
   },
   "source": [
    "But, how do you actually _display_ an item?\n",
    "\n",
    "- The `flip()` method of `Window` objects\n",
    "    - Move between frames \n",
    "- The `setAutoDraw()` method of all `ShapeStim` objects\n",
    "    - Draw the stimulus on every frame, without explicit frame-by-frame instruction"
   ]
  },
  {
   "cell_type": "code",
   "execution_count": null,
   "id": "a14bc9ae",
   "metadata": {
    "slideshow": {
     "slide_type": "slide"
    }
   },
   "outputs": [],
   "source": [
    "window = visual.Window(color=\"black\")\n",
    "stimulus = visual.rect.Rect(win=window,\n",
    "                            fillColor=\"white\")\n",
    "\n",
    "stimulus.setAutoDraw(True)\n",
    "for frame in range(frames_per_stimulus):\n",
    "    window.flip()"
   ]
  },
  {
   "cell_type": "markdown",
   "id": "6cbcae95",
   "metadata": {
    "slideshow": {
     "slide_type": "slide"
    }
   },
   "source": [
    "**Interim exercise:**\n",
    "\n",
    "- If you don't have a Python installation: \n",
    "    - Get one following the instructions at [this HTTPS URL](https://github.com/vigji/python-cimec-2024/blob/main/docs/python-installation.md)\n",
    "- If you have a Python installation, but don't have PsychoPy:\n",
    "    - Open an Anaconda prompt or terminal\n",
    "    - Optional: create a dedicated `conda` environment\n",
    "    - Type `pip install psychopy`\n",
    "- In any code editor, create a `.py` file where you:\n",
    "    - Initialise a `Monitor` with a given name, then set its pixel size\n",
    "    - Initialise a `Window` object as follows:\n",
    "        - `window = visual.Window(size=monitor.getSizePix(), fullscr=True, monitor=monitor.name, color=\"black\")`\n",
    "    - Create a stimulus of your choice \n",
    "    - Display the stimulus for 10 seconds at a 60 Hz refresh rate\n",
    "    - Save the `.py` file and run it(from either the code editor or terminal)\n",
    "\n",
    "Note: a code editor is something like [VSCode](https://code.visualstudio.com/download), [PyCharm](https://www.jetbrains.com/pycharm/), or [Spyder](https://www.spyder-ide.org/). \n",
    "\n",
    "If you don't have a code editor, you can use Notepad (on Windows), TextEdit (on Mac), or Text Editor (on Linux)."
   ]
  },
  {
   "cell_type": "markdown",
   "id": "c319df5b",
   "metadata": {
    "slideshow": {
     "slide_type": "slide"
    }
   },
   "source": [
    "# **Step 3: Represent Different Experimental Conditions**"
   ]
  },
  {
   "cell_type": "markdown",
   "id": "4c733f8c",
   "metadata": {
    "slideshow": {
     "slide_type": "slide"
    }
   },
   "source": [
    "In neuroscientific experiments, we usually study how a subject responds to some stimulation (sensory, emotional, magnetic, electrical, etc.).\n",
    "\n",
    "For statistical power, we want to measure the same response several times. \n",
    "\n",
    "Therefore, we want an experiment with multiple _trials_: stereotyped, repeated presentations of the same stimulus or stimulus sequence.\n",
    "\n",
    "We also want to study how a subject responds to different _kinds_ of stimulation (e.g., seeing a square vs. seeing a circle).\n",
    "\n",
    "Therefore, we want an experiment with multiple _conditions_: variations of the stimulus or stimulus sequence presented to the subject in any given trial.\n",
    "\n",
    "In this context, we need code to:\n",
    "- Define different conditions\n",
    "\n",
    "- Administer each condition for multiple trials\n",
    "    - The number of trials per condition will vary depending on our design: balance\n",
    "    \n",
    "- Administer the conditions in the order that we want \n",
    "    - That's often random"
   ]
  },
  {
   "cell_type": "markdown",
   "id": "5513ff81",
   "metadata": {
    "slideshow": {
     "slide_type": "slide"
    }
   },
   "source": [
    "## **Define Different Conditions, Step 1: The `conditions.csv` File**"
   ]
  },
  {
   "cell_type": "markdown",
   "id": "8060decc",
   "metadata": {
    "slideshow": {
     "slide_type": "fragment"
    }
   },
   "source": [
    "In PsychoPy, you need to define your conditions in an external `.csv` file that has:\n",
    "- One row per condition\n",
    "- One column per condition parameter:\n",
    "    - Presence vs. absence of a given stimulus (1,0)\n",
    "    - Colour of the stimulus (\"yellow\", \"blue\",...)\n",
    "    - Whatever you can think of...\n",
    "\n",
    "If you want to give higher weight to one condition (i.e., present it more times than others), you can put it in multiple rows "
   ]
  },
  {
   "cell_type": "markdown",
   "id": "77e9b816",
   "metadata": {
    "slideshow": {
     "slide_type": "slide"
    }
   },
   "source": [
    "### **Define Different Conditions, Step 2: The `data.importConditions` Function**"
   ]
  },
  {
   "cell_type": "markdown",
   "id": "3518e765",
   "metadata": {
    "slideshow": {
     "slide_type": "fragment"
    }
   },
   "source": [
    "Each experimental trial corresponds to one condition. Therefore, each experimental trial is one row of the `conditions.csv` file.\n",
    "\n",
    "PsychoPy implements trials as iterations over the rows of the `conditions.csv` file.\n",
    "\n",
    "To do so, it reads the `conditions.csv` file and transforms it in an [iterable](https://realpython.com/python-iterators-iterables/#getting-to-know-python-iterables) (i.e., a Python object that you can iterate over).\n",
    "\n",
    "This is done by the `importConditions` function from module `data`. "
   ]
  },
  {
   "cell_type": "code",
   "execution_count": null,
   "id": "e9b036d0",
   "metadata": {
    "slideshow": {
     "slide_type": "fragment"
    }
   },
   "outputs": [],
   "source": [
    "from psychopy import data\n",
    "\n",
    "CONDITIONS_FILE_NAME = \"conditions.csv\"\n",
    "my_conditions = data.importConditions(CONDITIONS_FILE_NAME)"
   ]
  },
  {
   "cell_type": "markdown",
   "id": "a3b016b4",
   "metadata": {
    "slideshow": {
     "slide_type": "slide"
    }
   },
   "source": [
    "### **Administer Each Condition for Multiple Trials, in the Order You Want: The `data.TrialHandler` Class**"
   ]
  },
  {
   "cell_type": "markdown",
   "id": "cf92a5d0",
   "metadata": {
    "slideshow": {
     "slide_type": "fragment"
    }
   },
   "source": [
    "The output of `data.importConditions` is meant to be the input to `data.TrialHandler`.\n",
    "\n",
    "The class `TrialHandler` from module `data` implements methods to:\n",
    "- Iterate over conditions (as read by `data.importConditions`)\n",
    "- Do it as many times as you want (one trial per condition vs. multiple trials per condition)\n",
    "- Do it in the order you want (sequential vs. random)"
   ]
  },
  {
   "cell_type": "code",
   "execution_count": null,
   "id": "5590d744",
   "metadata": {
    "slideshow": {
     "slide_type": "fragment"
    }
   },
   "outputs": [],
   "source": [
    "my_trials = data.TrialHandler(trialList=my_conditions, \n",
    "                              nReps=1,\n",
    "                              method=\"random\")\n",
    "for trial in my_trials:\n",
    "    # do things"
   ]
  },
  {
   "cell_type": "markdown",
   "id": "8fbc2d90",
   "metadata": {
    "slideshow": {
     "slide_type": "slide"
    }
   },
   "source": [
    "**Pay attention to the `method` argument:**\n",
    "\n",
    "- You probably want to pass `random` to avoid order effects:\n",
    "\n",
    "    shuffles the conditions, and _\"all conditions occur once before the second repeat\"_\n",
    "- You can also pass `fullRandom`, but be aware that \n",
    "\n",
    "    _\"you could potentially run all trials of one condition before any trial of another\"_\n",
    "\n",
    "- Finally, you can pass `sequential` if that's OK for your design. \n",
    "\n",
    "    _\"presents the conditions in the order they appear in the list\"_ (i.e., in the `conditions.csv` file)"
   ]
  },
  {
   "cell_type": "markdown",
   "id": "252925f6",
   "metadata": {
    "slideshow": {
     "slide_type": "slide"
    }
   },
   "source": [
    "# **Step 4: Represent Buttons and Encode Buttonpresses**"
   ]
  },
  {
   "cell_type": "markdown",
   "id": "8266e9e8",
   "metadata": {
    "slideshow": {
     "slide_type": "fragment"
    }
   },
   "source": [
    "The `event` module contains classes and functions to _\"handle input from keyboard, mouse and joystick\"_\n",
    "\n",
    "Of particular interest for standard experimental psychology, the `getKeys()` function continuously checks for keypresses and continuously returns a list of the presses that it finds.\n",
    "- For example: if you press `left`, `getKeys()` will detect it and return a list of type: `[\"left\"]`\n",
    "- You can specify the keys that you are interested in with the `keyList` argument (`type: list`). \n",
    "    - If you do so, `getKeys()` will check exclusively for the keys contained in `keyList`"
   ]
  },
  {
   "cell_type": "code",
   "execution_count": null,
   "id": "b415ddb9",
   "metadata": {
    "slideshow": {
     "slide_type": "slide"
    }
   },
   "outputs": [],
   "source": [
    "from psychopy import event\n",
    "\n",
    "pressed_key = event.getKeys(keyList=[\"left\",\"right\"]) "
   ]
  },
  {
   "cell_type": "markdown",
   "id": "6bcb7893",
   "metadata": {
    "slideshow": {
     "slide_type": "slide"
    }
   },
   "source": [
    "Once you have stored the keypress in a variable, you can use it for response scoring:"
   ]
  },
  {
   "cell_type": "code",
   "execution_count": null,
   "id": "47ee61c7",
   "metadata": {
    "slideshow": {
     "slide_type": "fragment"
    }
   },
   "outputs": [],
   "source": [
    "response = pressed_key[0]\n",
    "if response == \"left\":\n",
    "    correct = 1        # means \"yes\"\n",
    "elif response == \"right\":\n",
    "    correct = 0        # means \"no\""
   ]
  },
  {
   "cell_type": "markdown",
   "id": "34370f2f",
   "metadata": {},
   "source": [
    "## **Measuring Response Timing**"
   ]
  },
  {
   "cell_type": "markdown",
   "id": "e442f2c2",
   "metadata": {
    "slideshow": {
     "slide_type": "slide"
    }
   },
   "source": [
    "Often, response timing is important.\n",
    "- Example: reaction time is a dependent variable\n",
    "\n",
    "PsychoPy provides a wealth of tools to measure time. These tools are scattered across the `core` and `clock` modules. I believe this might change in the future, with all timing tools migrating to `clock`. In the meantime, you can visit [`core`](https://www.psychopy.org/api/core.html)'s and [`clock`](https://www.psychopy.org/api/clock.html)'s documentation to choose the tool that suits your needs."
   ]
  },
  {
   "cell_type": "markdown",
   "id": "72a1c5d8",
   "metadata": {
    "slideshow": {
     "slide_type": "fragment"
    }
   },
   "source": [
    "### **The `Clock` class from the `core` module**"
   ]
  },
  {
   "cell_type": "markdown",
   "id": "178ee074",
   "metadata": {
    "slideshow": {
     "slide_type": "slide"
    }
   },
   "source": [
    "Pseudocode:"
   ]
  },
  {
   "cell_type": "code",
   "execution_count": null,
   "id": "12f7bb44",
   "metadata": {
    "slideshow": {
     "slide_type": "fragment"
    }
   },
   "outputs": [],
   "source": [
    "from psychopy import core\n",
    "\n",
    "response_clock = core.Clock()\n",
    "for trial in my_trials:\n",
    "    # present your stimuli \n",
    "    if response:\n",
    "        reaction_time = response_clock.getTime()\n",
    "        response_clock.reset"
   ]
  },
  {
   "cell_type": "markdown",
   "id": "61a1ebac",
   "metadata": {
    "slideshow": {
     "slide_type": "slide"
    }
   },
   "source": [
    "Resetting the clock after taking the time is **VERY** important. \n",
    "\n",
    "If you forget to do it, you will end up taking incremental times:\n",
    "\n",
    "- First reaction time: `clock.getTime()` - $t_{init}$\n",
    "\n",
    "    where $t_{init}$ is the time when you initialised your clock (i.e., when `response_clock = core.Clock()` was executed)\n",
    "- Second reaction time: `clock_getTime()` + first reaction time\n",
    "- Third reaction time: `clock_getTime()` + second reaction time\n",
    "- etc...\n",
    "\n",
    "What you really want is: \n",
    "- Any reaction time: `clock.getTime()` - $t_{start}$\n",
    "\n",
    "    where $t_{start}$ is the time when you presented you stimulus (i.e., the beginning of a frame or trial)"
   ]
  },
  {
   "cell_type": "markdown",
   "id": "150041de",
   "metadata": {
    "slideshow": {
     "slide_type": "slide"
    }
   },
   "source": [
    "Real code:"
   ]
  },
  {
   "cell_type": "code",
   "execution_count": null,
   "id": "f7ef961d",
   "metadata": {
    "slideshow": {
     "slide_type": "fragment"
    }
   },
   "outputs": [],
   "source": [
    "from psychopy import visual, core, event\n",
    "\n",
    "window = visual.Window(color=\"black\")\n",
    "stimulus = visual.rect.Rect(win=window,\n",
    "                            fillColor=\"white\")\n",
    "\n",
    "response_clock = core.Clock()\n",
    "\n",
    "for trial in my_trials:\n",
    "    stimulus.setAutoDraw(True)\n",
    "    window.callOnFlip(response_clock.reset) # analogous to setAutoDraw\n",
    "    event.clearEvents()                     # clears old  keypresses \n",
    "    for frame in range(frames_per_stimulus):\n",
    "        keys = event.getKeys(keyList=[\"left\",\"right\"])\n",
    "        if len(keys) > 0:\n",
    "            response = keys[0]   \n",
    "            reaction_time = response_clock.getTime() \n",
    "            break\n",
    "        window.flip()"
   ]
  },
  {
   "cell_type": "markdown",
   "id": "373f3d83",
   "metadata": {
    "slideshow": {
     "slide_type": "slide"
    }
   },
   "source": [
    "**Interim exercise:**\n",
    "\n",
    "Extend the script from the previous exercise. You want to:\n",
    "- Accept responses \n",
    "- Take reaction times\n",
    "- Print the reaction time\n",
    "\n",
    "When you are done with your modifications, run the script to see if it works!"
   ]
  },
  {
   "cell_type": "markdown",
   "id": "8dfd97b1",
   "metadata": {
    "slideshow": {
     "slide_type": "slide"
    }
   },
   "source": [
    "# **Step 5: Represent the Neuroimaging System and Interact With It**"
   ]
  },
  {
   "cell_type": "markdown",
   "id": "4aae4d7d",
   "metadata": {
    "slideshow": {
     "slide_type": "slide"
    }
   },
   "source": [
    "When you do a behavioural experiment during neuroimaging, you want a link between neuroimaging and behavioural data.\n",
    "For example, you might want to:\n",
    "- Mark EEG time series at stimulus presentation times\n",
    "- Present stimuli at the right moment of an MRI acquisition sequence\n",
    "\n",
    "**Problem:** \n",
    "\n",
    "- The PsychoPy code for the behavioural task runs in one computer\n",
    "- The neuroimaging data are acquired by another / the MRI scans are controlled by another\n",
    "- You need a piece of hardware to connect two computers and carry signals between them\n",
    "\n",
    "The connection between the two computers is often implemented by a parallel or serial port.\n",
    "\n",
    "Simplifying:\n",
    "- A parallel port is a hardware interface that can transmit multiple signals in parallel. It is composed of multiple _pins_ connected to a cable with multiple threads (one per pin) ([Wikipedia](https://en.wikipedia.org/wiki/Parallel_port))\n",
    "<p align=\"center\">\n",
    "  <img src=\"./files/parallel-port.png\" />\n",
    "</p>"
   ]
  },
  {
   "cell_type": "markdown",
   "id": "adc9aac4",
   "metadata": {},
   "source": [
    "- A serial port is a hardware interface that can transmit one signal at a time ([Wikipedia](https://en.wikipedia.org/wiki/Serial_port))\n",
    "  - USB ports are serial: USB = Universal Serial Bus\n",
    "\n",
    "<p align=\"center\">\n",
    "  <img src=\"./files/serial-port.png\" width=\"450\" height=\"auto\" />\n",
    "</p>"
   ]
  },
  {
   "cell_type": "markdown",
   "id": "6b54ff4c",
   "metadata": {
    "slideshow": {
     "slide_type": "fragment"
    }
   },
   "source": [
    "PsychoPy has a `hardware` module that contains:\n",
    "\n",
    "- The `parallel` submodule, to send signals through parallel ports\n",
    "- The `serial` submodule, to send signals through serial ports\n",
    "\n",
    "We'll make the example with `parallel`, showing how to mark an EEG trace through a parallel port. However, `serial` is similar in concept. In both cases, you need to:\n",
    "- Import the appropriate submodule (`parallel` / `serial`)\n",
    "- Initialise an object that represents your port. This object will have one key attribute: the port's _address_ (basically, its name)\n",
    "- Write code to have signals travelling from / to the port"
   ]
  },
  {
   "cell_type": "markdown",
   "id": "80bb391b",
   "metadata": {
    "slideshow": {
     "slide_type": "slide"
    }
   },
   "source": [
    "Example: marking an EEG trace through a parallel port"
   ]
  },
  {
   "cell_type": "code",
   "execution_count": null,
   "id": "2e082fce",
   "metadata": {
    "slideshow": {
     "slide_type": "fragment"
    }
   },
   "outputs": [],
   "source": [
    "from psychopy import parallel\n",
    "\n",
    "port = parallel.ParallelPort(address=\"0x0378\") # can vary\n",
    "port.setPin(pinNumber=1,                       # send signal through pin number 1\n",
    "            state=1)\n",
    "# display your stimulus\n",
    "port.setPin(pinNumber=1,                       # stop sending signal through pin number 1\n",
    "            state=0)"
   ]
  },
  {
   "cell_type": "markdown",
   "id": "f338e89d",
   "metadata": {
    "slideshow": {
     "slide_type": "fragment"
    }
   },
   "source": [
    "You can go [here](https://github.com/coneco-lab/modified-ant/blob/main/task-and-eeg/docs/neurone-triggers.md) for a bit more detail on marking EEGs through parallel ports...\n",
    "\n",
    "... And you can go [here](https://psychopy.org/hardware/fMRI.html) for a tutorial on synchronising stimulus presentation with the activity of MRI scanners (includes code for serial ports, which applies beyond the MRI use case). "
   ]
  },
  {
   "cell_type": "markdown",
   "id": "7a3bcc5b",
   "metadata": {},
   "source": [
    "# **Bonus: The Importance of Timing**"
   ]
  },
  {
   "cell_type": "markdown",
   "id": "7098869c",
   "metadata": {},
   "source": [
    "We have covered PsychoPy's basic concepts. Knowing about them is enough to start building an experiment. \n",
    "\n",
    "But if you do build an experiment, you need to make sure it works as intended. To this end, time is of the essence: the behavioural task **must** be synchronised with a subject's brain dynamics.\n",
    "\n",
    "Enemies:\n",
    "- Software delays\n",
    "- Hardware delays"
   ]
  },
  {
   "cell_type": "markdown",
   "id": "ab40fe01",
   "metadata": {},
   "source": [
    "## **Software Delays**"
   ]
  },
  {
   "cell_type": "markdown",
   "id": "62211723",
   "metadata": {},
   "source": [
    "Any instruction (i.e., code line) takes time to execute. You must make sure that the execution time of instructions suits your scientific needs.\n",
    "\n",
    "Example:\n",
    "- You want the transition between two stimuli to take 5 ms\n",
    "\n",
    "- You have a scientific reason to want that \n",
    "    - For example, you expect the two stimuli to be synchronised with neural events that occur 5 ms apart\n",
    "\n",
    "- Your code takes 7 ms to execute \n",
    "    - Unlikely, but I'm just making an example\n",
    "    \n",
    "- You have a problem!"
   ]
  },
  {
   "cell_type": "markdown",
   "id": "636aea6d",
   "metadata": {},
   "source": [
    "### **Time your code**\n",
    "\n",
    "There are ways to time code execution, in and outside PsychoPy: \n",
    "- The `time` library \n",
    "- PsychoPy-specific tools"
   ]
  },
  {
   "cell_type": "markdown",
   "id": "75c5cef3",
   "metadata": {},
   "source": [
    "**The `time` library**\n",
    "- **First tool: `time.time()`**"
   ]
  },
  {
   "cell_type": "code",
   "execution_count": null,
   "id": "eaf1dea3",
   "metadata": {},
   "outputs": [],
   "source": [
    "import time\n",
    "\n",
    "start_time = time.time()\n",
    "# do things\n",
    "end_time = time.time()\n",
    "time_taken_by_things = end_time - start_time"
   ]
  },
  {
   "cell_type": "markdown",
   "id": "8ad2b460",
   "metadata": {},
   "source": [
    "Calls to `time.time()` return the number of seconds since the Epoch, i.e., January 1, 1970 at midnight (an arbitrary reference value). \n",
    "\n",
    "Calling `time.time()` two consecutive times will return two incremental numbers (i.e., $ t $ and $ t+\\tau $).\n",
    "\n",
    "The difference between such numbers is the time elapsed between the two calls to `time.time()`: $ \\tau = (t + \\tau) - t $  \n",
    "\n",
    "Calls to `time.time()` are great for code with execution time in the order of the seconds. If you expect your code to run faster than that (e.g., because you are timing a very simple instruction), `time.time()` may not be precise enough. From `time.time()`'s [documentation](https://docs.python.org/3/library/time.html): \n",
    "\n",
    "_\"Note that even though the time is always returned as a floating point number, not all systems provide time with a better precision than 1 second. While this function normally returns non-decreasing values, it can return a lower value than a previous call if the system clock has been set back between the two calls\"_"
   ]
  },
  {
   "cell_type": "markdown",
   "id": "71bac29f",
   "metadata": {},
   "source": [
    "**The `time` library**\n",
    "- **Second tool: `time.perf_counter()`**"
   ]
  },
  {
   "cell_type": "markdown",
   "id": "78f748f7",
   "metadata": {},
   "source": [
    "Luckily, the `time` library provides a more precise stopwatch than `.time()`. That is `time.perf_counter()`, whose documentation says: \n",
    "\n",
    "_\"Return the value (in fractional seconds) of a performance counter, i.e. a clock with the highest available resolution to measure a short duration\"_"
   ]
  },
  {
   "cell_type": "code",
   "execution_count": null,
   "id": "1319553a",
   "metadata": {},
   "outputs": [],
   "source": [
    "from time import perf_counter\n",
    "\n",
    "start_time = perf_counter()\n",
    "# do things\n",
    "end_time = perf_counter()\n",
    "precise_time_taken_by_things = end_time - start_time\n",
    "precise_time_taken_by_things"
   ]
  },
  {
   "cell_type": "markdown",
   "id": "123479fa",
   "metadata": {},
   "source": [
    "There's even a `time.perf_counter()` variant that returns the time in nanoseconds: `time.perf_counter_ns()`. It works the same as `perf_counter()`, but it returns the time in nanoseconds (instead of fractions of a second). This means that instead of getting $ \\tau = 0.000000001 \\ s $, you will get $ \\tau = 1 \\ ns $. In practice, these two values are the same. But the value expressed in fractional seconds may be less precise because it is encoded as a `float` (read [here](https://realpython.com/python-data-types/#floating-point-numbers-representation) for more).  "
   ]
  },
  {
   "cell_type": "markdown",
   "id": "576ceef9",
   "metadata": {},
   "source": [
    "**PsychoPy-specific timing tools:**\n",
    "- **Clocks (see above)**\n",
    "- **`core.getTime()`**\n",
    "    - Gets the time since the `core` module of PsychoPy was loaded in the current working session"
   ]
  },
  {
   "cell_type": "markdown",
   "id": "74854888",
   "metadata": {},
   "source": [
    "**Beware of estimation error**\n",
    "\n",
    "In general, the execution speed of any instruction can vary between runs:\n",
    "- Code quality\n",
    "- Available CPU resources\n",
    "\n",
    "Therefore, all time measurements carry some uncertainty. Ideally, you should time the same code multiple times and calculate statistics on the results you obtain."
   ]
  },
  {
   "cell_type": "markdown",
   "id": "b84d7e5b",
   "metadata": {},
   "source": [
    "## **Hardware Delays**"
   ]
  },
  {
   "cell_type": "markdown",
   "id": "9cb45b63",
   "metadata": {},
   "source": [
    "Even if your software is perfect, there might be delays caused by the hardware. Example: \n",
    "- You are running a visual experiment\n",
    "- The monitor takes some milliseconds to render stimuli\n",
    "    - This results in:\n",
    "        - A delay between the time a stimulus is created in code and the time it is rendered on screen\n",
    "        - A mismatch between the expected and real stimulus presentation time\n",
    "        - If you are running an EEG experiment, you are marking the trace at the wrong time "
   ]
  },
  {
   "cell_type": "markdown",
   "id": "9729fe0e",
   "metadata": {},
   "source": [
    "### **Measuring Stimulus Presentation Time: The Photodiode**"
   ]
  },
  {
   "cell_type": "markdown",
   "id": "336592c2",
   "metadata": {},
   "source": [
    "A photodiode ([Wikipedia](https://en.wikipedia.org/wiki/Photodiode)) is an electronic component that generates a current when it's hit by light. If you place a photodiode in front of a stimulus' screen location, you will get an instantaneous signal when the stimulus appears (provided sufficient contrast between the stimulus and the background). This will allow you to check for delays between expected presentation time and the real presentation time:\n",
    "- Real presentation time measured by the photodiode\n",
    "- Expected presentation time measured by the marker on the EEG trace \n",
    "    - Marking an EEG trace via parallel port is almost instantaneous, so no delays here\n",
    "\n",
    "Using a photodiode can be tricky, especially because you should connect it to an oscilloscope. You might want to seek help from a lab technician for that."
   ]
  },
  {
   "cell_type": "markdown",
   "id": "fbd033c3",
   "metadata": {
    "slideshow": {
     "slide_type": "slide"
    }
   },
   "source": [
    "# **Final Considerations**"
   ]
  },
  {
   "cell_type": "markdown",
   "id": "255ae792",
   "metadata": {
    "slideshow": {
     "slide_type": "slide"
    }
   },
   "source": [
    "## **PsychoPy is Great**"
   ]
  },
  {
   "cell_type": "markdown",
   "id": "db9e9f39",
   "metadata": {},
   "source": [
    "- You can run virtually any type of visual / auditory experiment\n",
    "- You can interact with quite a lot of hardware\n",
    "- All you need is a bit of Python expertise \n",
    "    - The material covered in [this](https://github.com/vigji/python-cimec-2024) course should be enough to get you on ramp!\n",
    "    - If you want a real-world example, you can check out our own code at [this](https://github.com/coneco-lab/modified-ant) GitHub repository"
   ]
  },
  {
   "cell_type": "markdown",
   "id": "661c756e",
   "metadata": {},
   "source": [
    "## **PsychoPy has Flaws**"
   ]
  },
  {
   "cell_type": "markdown",
   "id": "24e0f7bd",
   "metadata": {},
   "source": [
    "- If you follow the developers' advice, you will install the Standard PsychoPy Version (SPV). This will get you:\n",
    "    - A code editor called Coder\n",
    "    - A GUI called Builder, where you can build experiments by pointing-and-clicking\n",
    "    - A kind of terminal / process manager called Runner\n",
    "\n",
    "- In our own opinion, the SPV is bad because:\n",
    "    - It comes with its own Python installation. If you already have another, things might get messy \n",
    "    - The Coder is a very bad editor. Alternatives like [VSCode](https://code.visualstudio.com/) have more features and are easier to use\n",
    "    - The Builder encourages users to avoid coding (more on this below) \n",
    "\n",
    "- The Builder is meant to:\n",
    "    - Empower people who can't code\n",
    "    - Accelerate prototyping for the people who can code\n",
    "    - Run [online experiments](https://www.psychopy.org/online/index.html), for which it is actually required\n",
    "        - Running online experiments? Check out [this crib sheet](https://discourse.psychopy.org/t/psychopy-python-to-javascript-crib-sheet/14601)\n",
    "\n",
    "- Personal opinion: unless you are running online experiments, you should never use the Builder \n",
    "    - Coding is more flexible (i.e., it lets you do more things)\n",
    "    - Coding builds a better understanding of what you are doing\n",
    "        - We should all be coding everything we use\n",
    "        - We shall strive to eliminate black boxes. We can't know everything, but we can always try\n",
    "\n",
    "- PsychoPy developers promote the Builder heavily, so most online tutorials are Builder-centred\n",
    "    - Bad news for coders\n",
    "    - The documentation for PsychoPy's codebase is hard to find, as it's buried under a myriad articles about the GUI ([found it!](https://www.psychopy.org/api/index.html))\n",
    "    - Poorly maintained (personal opinion)"
   ]
  }
 ],
 "metadata": {
  "celltoolbar": "Slideshow",
  "kernelspec": {
   "display_name": "Python 3 (ipykernel)",
   "language": "python",
   "name": "python3"
  },
  "language_info": {
   "codemirror_mode": {
    "name": "ipython",
    "version": 3
   },
   "file_extension": ".py",
   "mimetype": "text/x-python",
   "name": "python",
   "nbconvert_exporter": "python",
   "pygments_lexer": "ipython3",
   "version": "3.10.10"
  }
 },
 "nbformat": 4,
 "nbformat_minor": 5
}
